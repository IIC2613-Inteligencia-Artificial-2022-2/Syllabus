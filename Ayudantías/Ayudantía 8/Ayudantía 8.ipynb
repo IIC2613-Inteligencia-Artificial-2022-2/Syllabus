{
 "cells": [
  {
   "cell_type": "markdown",
   "id": "2c7e563d",
   "metadata": {},
   "source": [
    "## 1. Árboles de Decisión y Random Forest"
   ]
  },
  {
   "cell_type": "markdown",
   "id": "c3d38677",
   "metadata": {},
   "source": [
    "### Limpieza del set de datos"
   ]
  },
  {
   "cell_type": "markdown",
   "id": "25426686",
   "metadata": {},
   "source": [
    "Primero importaremos la librería pandas para manejar el set de datos y os para obtener el path para abrir el archivo"
   ]
  },
  {
   "cell_type": "code",
   "execution_count": 3,
   "id": "52ff1aed",
   "metadata": {},
   "outputs": [],
   "source": [
    "import pandas as pd\n",
    "import os\n",
    "import numpy as np\n",
    "np.random.seed(1234)"
   ]
  },
  {
   "cell_type": "markdown",
   "id": "2bcda4c0",
   "metadata": {},
   "source": [
    "Abrimos el archivo indexando por ```PassengerId```"
   ]
  },
  {
   "cell_type": "markdown",
   "id": "261b30f0",
   "metadata": {},
   "source": [
    "Para esta actividad se usó la base de datos de supervivencia del titanic que se puede obtener del siguiente link: https://www.kaggle.com/datasets/yasserh/titanic-dataset "
   ]
  },
  {
   "cell_type": "code",
   "execution_count": 4,
   "id": "85ca26c2",
   "metadata": {},
   "outputs": [
    {
     "data": {
      "text/html": [
       "<div>\n",
       "<style scoped>\n",
       "    .dataframe tbody tr th:only-of-type {\n",
       "        vertical-align: middle;\n",
       "    }\n",
       "\n",
       "    .dataframe tbody tr th {\n",
       "        vertical-align: top;\n",
       "    }\n",
       "\n",
       "    .dataframe thead th {\n",
       "        text-align: right;\n",
       "    }\n",
       "</style>\n",
       "<table border=\"1\" class=\"dataframe\">\n",
       "  <thead>\n",
       "    <tr style=\"text-align: right;\">\n",
       "      <th></th>\n",
       "      <th>Name</th>\n",
       "      <th>Ticket</th>\n",
       "      <th>Embarked</th>\n",
       "      <th>Pclass</th>\n",
       "      <th>Sex</th>\n",
       "      <th>Age</th>\n",
       "      <th>SibSp</th>\n",
       "      <th>Parch</th>\n",
       "      <th>Fare</th>\n",
       "      <th>Survived</th>\n",
       "    </tr>\n",
       "    <tr>\n",
       "      <th>PassengerId</th>\n",
       "      <th></th>\n",
       "      <th></th>\n",
       "      <th></th>\n",
       "      <th></th>\n",
       "      <th></th>\n",
       "      <th></th>\n",
       "      <th></th>\n",
       "      <th></th>\n",
       "      <th></th>\n",
       "      <th></th>\n",
       "    </tr>\n",
       "  </thead>\n",
       "  <tbody>\n",
       "    <tr>\n",
       "      <th>1</th>\n",
       "      <td>Braund, Mr. Owen Harris</td>\n",
       "      <td>A/5 21171</td>\n",
       "      <td>S</td>\n",
       "      <td>3</td>\n",
       "      <td>male</td>\n",
       "      <td>22.0</td>\n",
       "      <td>1.0</td>\n",
       "      <td>0.0</td>\n",
       "      <td>7.2500</td>\n",
       "      <td>0.0</td>\n",
       "    </tr>\n",
       "    <tr>\n",
       "      <th>2</th>\n",
       "      <td>Cumings, Mrs. John Bradley (Florence Briggs Th...</td>\n",
       "      <td>PC 17599</td>\n",
       "      <td>C</td>\n",
       "      <td>1</td>\n",
       "      <td>female</td>\n",
       "      <td>38.0</td>\n",
       "      <td>1.0</td>\n",
       "      <td>0.0</td>\n",
       "      <td>71.2833</td>\n",
       "      <td>1.0</td>\n",
       "    </tr>\n",
       "    <tr>\n",
       "      <th>3</th>\n",
       "      <td>Heikkinen, Miss. Laina</td>\n",
       "      <td>STON/O2. 3101282</td>\n",
       "      <td>S</td>\n",
       "      <td>3</td>\n",
       "      <td>female</td>\n",
       "      <td>26.0</td>\n",
       "      <td>0.0</td>\n",
       "      <td>0.0</td>\n",
       "      <td>7.9250</td>\n",
       "      <td>1.0</td>\n",
       "    </tr>\n",
       "    <tr>\n",
       "      <th>4</th>\n",
       "      <td>Futrelle, Mrs. Jacques Heath (Lily May Peel)</td>\n",
       "      <td>113803</td>\n",
       "      <td>S</td>\n",
       "      <td>1</td>\n",
       "      <td>female</td>\n",
       "      <td>35.0</td>\n",
       "      <td>1.0</td>\n",
       "      <td>0.0</td>\n",
       "      <td>53.1000</td>\n",
       "      <td>1.0</td>\n",
       "    </tr>\n",
       "    <tr>\n",
       "      <th>5</th>\n",
       "      <td>Allen, Mr. William Henry</td>\n",
       "      <td>373450</td>\n",
       "      <td>S</td>\n",
       "      <td>3</td>\n",
       "      <td>male</td>\n",
       "      <td>35.0</td>\n",
       "      <td>0.0</td>\n",
       "      <td>0.0</td>\n",
       "      <td>8.0500</td>\n",
       "      <td>0.0</td>\n",
       "    </tr>\n",
       "    <tr>\n",
       "      <th>...</th>\n",
       "      <td>...</td>\n",
       "      <td>...</td>\n",
       "      <td>...</td>\n",
       "      <td>...</td>\n",
       "      <td>...</td>\n",
       "      <td>...</td>\n",
       "      <td>...</td>\n",
       "      <td>...</td>\n",
       "      <td>...</td>\n",
       "      <td>...</td>\n",
       "    </tr>\n",
       "    <tr>\n",
       "      <th>887</th>\n",
       "      <td>Montvila, Rev. Juozas</td>\n",
       "      <td>211536</td>\n",
       "      <td>S</td>\n",
       "      <td>2</td>\n",
       "      <td>male</td>\n",
       "      <td>27.0</td>\n",
       "      <td>0.0</td>\n",
       "      <td>0.0</td>\n",
       "      <td>13.0000</td>\n",
       "      <td>0.0</td>\n",
       "    </tr>\n",
       "    <tr>\n",
       "      <th>888</th>\n",
       "      <td>Graham, Miss. Margaret Edith</td>\n",
       "      <td>112053</td>\n",
       "      <td>S</td>\n",
       "      <td>1</td>\n",
       "      <td>female</td>\n",
       "      <td>19.0</td>\n",
       "      <td>0.0</td>\n",
       "      <td>0.0</td>\n",
       "      <td>30.0000</td>\n",
       "      <td>1.0</td>\n",
       "    </tr>\n",
       "    <tr>\n",
       "      <th>889</th>\n",
       "      <td>Johnston, Miss. Catherine Helen \"Carrie\"</td>\n",
       "      <td>W./C. 6607</td>\n",
       "      <td>S</td>\n",
       "      <td>3</td>\n",
       "      <td>female</td>\n",
       "      <td>NaN</td>\n",
       "      <td>1.0</td>\n",
       "      <td>2.0</td>\n",
       "      <td>23.4500</td>\n",
       "      <td>0.0</td>\n",
       "    </tr>\n",
       "    <tr>\n",
       "      <th>890</th>\n",
       "      <td>Behr, Mr. Karl Howell</td>\n",
       "      <td>111369</td>\n",
       "      <td>C</td>\n",
       "      <td>1</td>\n",
       "      <td>male</td>\n",
       "      <td>26.0</td>\n",
       "      <td>0.0</td>\n",
       "      <td>0.0</td>\n",
       "      <td>30.0000</td>\n",
       "      <td>1.0</td>\n",
       "    </tr>\n",
       "    <tr>\n",
       "      <th>891</th>\n",
       "      <td>Dooley, Mr. Patrick</td>\n",
       "      <td>370376</td>\n",
       "      <td>Q</td>\n",
       "      <td>3</td>\n",
       "      <td>male</td>\n",
       "      <td>32.0</td>\n",
       "      <td>0.0</td>\n",
       "      <td>0.0</td>\n",
       "      <td>7.7500</td>\n",
       "      <td>0.0</td>\n",
       "    </tr>\n",
       "  </tbody>\n",
       "</table>\n",
       "<p>891 rows × 10 columns</p>\n",
       "</div>"
      ],
      "text/plain": [
       "                                                          Name  \\\n",
       "PassengerId                                                      \n",
       "1                                      Braund, Mr. Owen Harris   \n",
       "2            Cumings, Mrs. John Bradley (Florence Briggs Th...   \n",
       "3                                       Heikkinen, Miss. Laina   \n",
       "4                 Futrelle, Mrs. Jacques Heath (Lily May Peel)   \n",
       "5                                     Allen, Mr. William Henry   \n",
       "...                                                        ...   \n",
       "887                                      Montvila, Rev. Juozas   \n",
       "888                               Graham, Miss. Margaret Edith   \n",
       "889                   Johnston, Miss. Catherine Helen \"Carrie\"   \n",
       "890                                      Behr, Mr. Karl Howell   \n",
       "891                                        Dooley, Mr. Patrick   \n",
       "\n",
       "                       Ticket Embarked  Pclass     Sex   Age  SibSp  Parch  \\\n",
       "PassengerId                                                                  \n",
       "1                   A/5 21171        S       3    male  22.0    1.0    0.0   \n",
       "2                    PC 17599        C       1  female  38.0    1.0    0.0   \n",
       "3            STON/O2. 3101282        S       3  female  26.0    0.0    0.0   \n",
       "4                      113803        S       1  female  35.0    1.0    0.0   \n",
       "5                      373450        S       3    male  35.0    0.0    0.0   \n",
       "...                       ...      ...     ...     ...   ...    ...    ...   \n",
       "887                    211536        S       2    male  27.0    0.0    0.0   \n",
       "888                    112053        S       1  female  19.0    0.0    0.0   \n",
       "889                W./C. 6607        S       3  female   NaN    1.0    2.0   \n",
       "890                    111369        C       1    male  26.0    0.0    0.0   \n",
       "891                    370376        Q       3    male  32.0    0.0    0.0   \n",
       "\n",
       "                Fare  Survived  \n",
       "PassengerId                     \n",
       "1             7.2500       0.0  \n",
       "2            71.2833       1.0  \n",
       "3             7.9250       1.0  \n",
       "4            53.1000       1.0  \n",
       "5             8.0500       0.0  \n",
       "...              ...       ...  \n",
       "887          13.0000       0.0  \n",
       "888          30.0000       1.0  \n",
       "889          23.4500       0.0  \n",
       "890          30.0000       1.0  \n",
       "891           7.7500       0.0  \n",
       "\n",
       "[891 rows x 10 columns]"
      ]
     },
     "execution_count": 4,
     "metadata": {},
     "output_type": "execute_result"
    }
   ],
   "source": [
    "data = pd.read_csv(\"bd_titanic.csv\", index_col=0)\n",
    "data"
   ]
  },
  {
   "cell_type": "markdown",
   "id": "650850a7",
   "metadata": {},
   "source": [
    "Vemos que datos no tenemos "
   ]
  },
  {
   "cell_type": "code",
   "execution_count": 5,
   "id": "3284798c",
   "metadata": {},
   "outputs": [
    {
     "data": {
      "text/plain": [
       "Name          7\n",
       "Ticket        6\n",
       "Embarked      3\n",
       "Pclass        0\n",
       "Sex           1\n",
       "Age         179\n",
       "SibSp         3\n",
       "Parch         4\n",
       "Fare          2\n",
       "Survived      3\n",
       "dtype: int64"
      ]
     },
     "execution_count": 5,
     "metadata": {},
     "output_type": "execute_result"
    }
   ],
   "source": [
    "data.isna().sum()"
   ]
  },
  {
   "cell_type": "markdown",
   "id": "4e7199d4",
   "metadata": {},
   "source": [
    "Hay ciertos datos, como ```Name``` y ```Ticket``` que no son relevantes para el árbol de clasificación por lo que no nos importa si tenemos el dato exacto o no. Por lo tanto, eliminaremos las entradas que tengan ```NaN``` y sean pocos de estos por columna (como ```Sex```, ```SibSp``` y ```Parch``` por ejemplo). Asimismo, hay muchas entradas que no tienen la edad por lo que eliminaremos esa columna para no perder una gran cantidad de datos."
   ]
  },
  {
   "cell_type": "code",
   "execution_count": 6,
   "id": "bdc2575d",
   "metadata": {},
   "outputs": [
    {
     "data": {
      "text/html": [
       "<div>\n",
       "<style scoped>\n",
       "    .dataframe tbody tr th:only-of-type {\n",
       "        vertical-align: middle;\n",
       "    }\n",
       "\n",
       "    .dataframe tbody tr th {\n",
       "        vertical-align: top;\n",
       "    }\n",
       "\n",
       "    .dataframe thead th {\n",
       "        text-align: right;\n",
       "    }\n",
       "</style>\n",
       "<table border=\"1\" class=\"dataframe\">\n",
       "  <thead>\n",
       "    <tr style=\"text-align: right;\">\n",
       "      <th></th>\n",
       "      <th>Name</th>\n",
       "      <th>Ticket</th>\n",
       "      <th>Embarked</th>\n",
       "      <th>Pclass</th>\n",
       "      <th>Sex</th>\n",
       "      <th>SibSp</th>\n",
       "      <th>Parch</th>\n",
       "      <th>Fare</th>\n",
       "      <th>Survived</th>\n",
       "    </tr>\n",
       "    <tr>\n",
       "      <th>PassengerId</th>\n",
       "      <th></th>\n",
       "      <th></th>\n",
       "      <th></th>\n",
       "      <th></th>\n",
       "      <th></th>\n",
       "      <th></th>\n",
       "      <th></th>\n",
       "      <th></th>\n",
       "      <th></th>\n",
       "    </tr>\n",
       "  </thead>\n",
       "  <tbody>\n",
       "    <tr>\n",
       "      <th>1</th>\n",
       "      <td>Braund, Mr. Owen Harris</td>\n",
       "      <td>A/5 21171</td>\n",
       "      <td>S</td>\n",
       "      <td>3</td>\n",
       "      <td>male</td>\n",
       "      <td>1.0</td>\n",
       "      <td>0.0</td>\n",
       "      <td>7.2500</td>\n",
       "      <td>0.0</td>\n",
       "    </tr>\n",
       "    <tr>\n",
       "      <th>2</th>\n",
       "      <td>Cumings, Mrs. John Bradley (Florence Briggs Th...</td>\n",
       "      <td>PC 17599</td>\n",
       "      <td>C</td>\n",
       "      <td>1</td>\n",
       "      <td>female</td>\n",
       "      <td>1.0</td>\n",
       "      <td>0.0</td>\n",
       "      <td>71.2833</td>\n",
       "      <td>1.0</td>\n",
       "    </tr>\n",
       "    <tr>\n",
       "      <th>3</th>\n",
       "      <td>Heikkinen, Miss. Laina</td>\n",
       "      <td>STON/O2. 3101282</td>\n",
       "      <td>S</td>\n",
       "      <td>3</td>\n",
       "      <td>female</td>\n",
       "      <td>0.0</td>\n",
       "      <td>0.0</td>\n",
       "      <td>7.9250</td>\n",
       "      <td>1.0</td>\n",
       "    </tr>\n",
       "    <tr>\n",
       "      <th>4</th>\n",
       "      <td>Futrelle, Mrs. Jacques Heath (Lily May Peel)</td>\n",
       "      <td>113803</td>\n",
       "      <td>S</td>\n",
       "      <td>1</td>\n",
       "      <td>female</td>\n",
       "      <td>1.0</td>\n",
       "      <td>0.0</td>\n",
       "      <td>53.1000</td>\n",
       "      <td>1.0</td>\n",
       "    </tr>\n",
       "    <tr>\n",
       "      <th>5</th>\n",
       "      <td>Allen, Mr. William Henry</td>\n",
       "      <td>373450</td>\n",
       "      <td>S</td>\n",
       "      <td>3</td>\n",
       "      <td>male</td>\n",
       "      <td>0.0</td>\n",
       "      <td>0.0</td>\n",
       "      <td>8.0500</td>\n",
       "      <td>0.0</td>\n",
       "    </tr>\n",
       "    <tr>\n",
       "      <th>...</th>\n",
       "      <td>...</td>\n",
       "      <td>...</td>\n",
       "      <td>...</td>\n",
       "      <td>...</td>\n",
       "      <td>...</td>\n",
       "      <td>...</td>\n",
       "      <td>...</td>\n",
       "      <td>...</td>\n",
       "      <td>...</td>\n",
       "    </tr>\n",
       "    <tr>\n",
       "      <th>887</th>\n",
       "      <td>Montvila, Rev. Juozas</td>\n",
       "      <td>211536</td>\n",
       "      <td>S</td>\n",
       "      <td>2</td>\n",
       "      <td>male</td>\n",
       "      <td>0.0</td>\n",
       "      <td>0.0</td>\n",
       "      <td>13.0000</td>\n",
       "      <td>0.0</td>\n",
       "    </tr>\n",
       "    <tr>\n",
       "      <th>888</th>\n",
       "      <td>Graham, Miss. Margaret Edith</td>\n",
       "      <td>112053</td>\n",
       "      <td>S</td>\n",
       "      <td>1</td>\n",
       "      <td>female</td>\n",
       "      <td>0.0</td>\n",
       "      <td>0.0</td>\n",
       "      <td>30.0000</td>\n",
       "      <td>1.0</td>\n",
       "    </tr>\n",
       "    <tr>\n",
       "      <th>889</th>\n",
       "      <td>Johnston, Miss. Catherine Helen \"Carrie\"</td>\n",
       "      <td>W./C. 6607</td>\n",
       "      <td>S</td>\n",
       "      <td>3</td>\n",
       "      <td>female</td>\n",
       "      <td>1.0</td>\n",
       "      <td>2.0</td>\n",
       "      <td>23.4500</td>\n",
       "      <td>0.0</td>\n",
       "    </tr>\n",
       "    <tr>\n",
       "      <th>890</th>\n",
       "      <td>Behr, Mr. Karl Howell</td>\n",
       "      <td>111369</td>\n",
       "      <td>C</td>\n",
       "      <td>1</td>\n",
       "      <td>male</td>\n",
       "      <td>0.0</td>\n",
       "      <td>0.0</td>\n",
       "      <td>30.0000</td>\n",
       "      <td>1.0</td>\n",
       "    </tr>\n",
       "    <tr>\n",
       "      <th>891</th>\n",
       "      <td>Dooley, Mr. Patrick</td>\n",
       "      <td>370376</td>\n",
       "      <td>Q</td>\n",
       "      <td>3</td>\n",
       "      <td>male</td>\n",
       "      <td>0.0</td>\n",
       "      <td>0.0</td>\n",
       "      <td>7.7500</td>\n",
       "      <td>0.0</td>\n",
       "    </tr>\n",
       "  </tbody>\n",
       "</table>\n",
       "<p>875 rows × 9 columns</p>\n",
       "</div>"
      ],
      "text/plain": [
       "                                                          Name  \\\n",
       "PassengerId                                                      \n",
       "1                                      Braund, Mr. Owen Harris   \n",
       "2            Cumings, Mrs. John Bradley (Florence Briggs Th...   \n",
       "3                                       Heikkinen, Miss. Laina   \n",
       "4                 Futrelle, Mrs. Jacques Heath (Lily May Peel)   \n",
       "5                                     Allen, Mr. William Henry   \n",
       "...                                                        ...   \n",
       "887                                      Montvila, Rev. Juozas   \n",
       "888                               Graham, Miss. Margaret Edith   \n",
       "889                   Johnston, Miss. Catherine Helen \"Carrie\"   \n",
       "890                                      Behr, Mr. Karl Howell   \n",
       "891                                        Dooley, Mr. Patrick   \n",
       "\n",
       "                       Ticket Embarked  Pclass     Sex  SibSp  Parch     Fare  \\\n",
       "PassengerId                                                                     \n",
       "1                   A/5 21171        S       3    male    1.0    0.0   7.2500   \n",
       "2                    PC 17599        C       1  female    1.0    0.0  71.2833   \n",
       "3            STON/O2. 3101282        S       3  female    0.0    0.0   7.9250   \n",
       "4                      113803        S       1  female    1.0    0.0  53.1000   \n",
       "5                      373450        S       3    male    0.0    0.0   8.0500   \n",
       "...                       ...      ...     ...     ...    ...    ...      ...   \n",
       "887                    211536        S       2    male    0.0    0.0  13.0000   \n",
       "888                    112053        S       1  female    0.0    0.0  30.0000   \n",
       "889                W./C. 6607        S       3  female    1.0    2.0  23.4500   \n",
       "890                    111369        C       1    male    0.0    0.0  30.0000   \n",
       "891                    370376        Q       3    male    0.0    0.0   7.7500   \n",
       "\n",
       "             Survived  \n",
       "PassengerId            \n",
       "1                 0.0  \n",
       "2                 1.0  \n",
       "3                 1.0  \n",
       "4                 1.0  \n",
       "5                 0.0  \n",
       "...               ...  \n",
       "887               0.0  \n",
       "888               1.0  \n",
       "889               0.0  \n",
       "890               1.0  \n",
       "891               0.0  \n",
       "\n",
       "[875 rows x 9 columns]"
      ]
     },
     "execution_count": 6,
     "metadata": {},
     "output_type": "execute_result"
    }
   ],
   "source": [
    "data.drop(\"Age\", axis=1, inplace=True)\n",
    "data.dropna(subset=[\"Embarked\", \"Sex\", \"SibSp\", \"Parch\", \"Fare\", \"Survived\"], inplace=True)\n",
    "data"
   ]
  },
  {
   "cell_type": "markdown",
   "id": "79e31118",
   "metadata": {},
   "source": [
    "### Comprensión de los datos"
   ]
  },
  {
   "cell_type": "markdown",
   "id": "ed74ef57",
   "metadata": {},
   "source": [
    "#### 1."
   ]
  },
  {
   "cell_type": "markdown",
   "id": "427432e8",
   "metadata": {},
   "source": [
    "Primero buscaremos ver si hay una relación entre supervivencia y ```Pclass```"
   ]
  },
  {
   "cell_type": "code",
   "execution_count": 7,
   "id": "61cea3ad",
   "metadata": {},
   "outputs": [
    {
     "name": "stderr",
     "output_type": "stream",
     "text": [
      "/var/folders/5r/rdml36vj1glc83x9vdlgr5_40000gn/T/ipykernel_1263/4011012539.py:1: FutureWarning: The default value of numeric_only in DataFrameGroupBy.mean is deprecated. In a future version, numeric_only will default to False. Either specify numeric_only or select only columns which should be valid for the function.\n",
      "  data.groupby(\"Pclass\").mean()[\"Survived\"]\n"
     ]
    },
    {
     "data": {
      "text/plain": [
       "Pclass\n",
       "1    0.622642\n",
       "2    0.477778\n",
       "3    0.246377\n",
       "Name: Survived, dtype: float64"
      ]
     },
     "execution_count": 7,
     "metadata": {},
     "output_type": "execute_result"
    }
   ],
   "source": [
    "data.groupby(\"Pclass\").mean()[\"Survived\"]"
   ]
  },
  {
   "cell_type": "markdown",
   "id": "ff96049c",
   "metadata": {},
   "source": [
    "Se observa claramente que entre mayor es la clase, mayor es la supervivencia."
   ]
  },
  {
   "cell_type": "markdown",
   "id": "f26959e7",
   "metadata": {},
   "source": [
    "#### 2."
   ]
  },
  {
   "cell_type": "markdown",
   "id": "f960fc19",
   "metadata": {},
   "source": [
    "Buscaremos ahora una relación entre supervivencia y `Sex`."
   ]
  },
  {
   "cell_type": "code",
   "execution_count": 8,
   "id": "839bd71b",
   "metadata": {},
   "outputs": [
    {
     "name": "stderr",
     "output_type": "stream",
     "text": [
      "/var/folders/5r/rdml36vj1glc83x9vdlgr5_40000gn/T/ipykernel_1263/3359518425.py:1: FutureWarning: The default value of numeric_only in DataFrameGroupBy.mean is deprecated. In a future version, numeric_only will default to False. Either specify numeric_only or select only columns which should be valid for the function.\n",
      "  data.groupby(\"Sex\").mean()[\"Survived\"]\n"
     ]
    },
    {
     "data": {
      "text/plain": [
       "Sex\n",
       "female    0.74026\n",
       "male      0.19224\n",
       "Name: Survived, dtype: float64"
      ]
     },
     "execution_count": 8,
     "metadata": {},
     "output_type": "execute_result"
    }
   ],
   "source": [
    "data.groupby(\"Sex\").mean()[\"Survived\"]"
   ]
  },
  {
   "cell_type": "markdown",
   "id": "70b12341",
   "metadata": {},
   "source": [
    "Veremos ahora estas dos estadísticas por `Sex` y `Pclass`."
   ]
  },
  {
   "cell_type": "code",
   "execution_count": 9,
   "id": "80ef5a37",
   "metadata": {},
   "outputs": [
    {
     "name": "stderr",
     "output_type": "stream",
     "text": [
      "/var/folders/5r/rdml36vj1glc83x9vdlgr5_40000gn/T/ipykernel_1263/330077015.py:1: FutureWarning: The default value of numeric_only in DataFrameGroupBy.mean is deprecated. In a future version, numeric_only will default to False. Either specify numeric_only or select only columns which should be valid for the function.\n",
      "  data.groupby([\"Sex\", \"Pclass\"]).mean()[\"Survived\"]\n"
     ]
    },
    {
     "data": {
      "text/plain": [
       "Sex     Pclass\n",
       "female  1         0.966667\n",
       "        2         0.920000\n",
       "        3         0.503497\n",
       "male    1         0.368852\n",
       "        2         0.161905\n",
       "        3         0.138235\n",
       "Name: Survived, dtype: float64"
      ]
     },
     "execution_count": 9,
     "metadata": {},
     "output_type": "execute_result"
    }
   ],
   "source": [
    "data.groupby([\"Sex\", \"Pclass\"]).mean()[\"Survived\"]"
   ]
  },
  {
   "cell_type": "markdown",
   "id": "5f390676",
   "metadata": {},
   "source": [
    "#### 3."
   ]
  },
  {
   "cell_type": "markdown",
   "id": "21a0c630",
   "metadata": {},
   "source": [
    "Buscaremos ahora ver si hay una relación entre puerto de embarque y supervivencia."
   ]
  },
  {
   "cell_type": "code",
   "execution_count": 10,
   "id": "b208fc1b",
   "metadata": {},
   "outputs": [
    {
     "name": "stderr",
     "output_type": "stream",
     "text": [
      "/var/folders/5r/rdml36vj1glc83x9vdlgr5_40000gn/T/ipykernel_1263/743911533.py:1: FutureWarning: The default value of numeric_only in DataFrameGroupBy.mean is deprecated. In a future version, numeric_only will default to False. Either specify numeric_only or select only columns which should be valid for the function.\n",
      "  data.groupby([\"Embarked\"]).mean()[\"Survived\"]\n"
     ]
    },
    {
     "data": {
      "text/plain": [
       "Embarked\n",
       "C    0.554217\n",
       "Q    0.394737\n",
       "S    0.339652\n",
       "Name: Survived, dtype: float64"
      ]
     },
     "execution_count": 10,
     "metadata": {},
     "output_type": "execute_result"
    }
   ],
   "source": [
    "data.groupby([\"Embarked\"]).mean()[\"Survived\"]"
   ]
  },
  {
   "cell_type": "markdown",
   "id": "6c2349d0",
   "metadata": {},
   "source": [
    "Se observa que la mayoría de los que embarcaron en Cherbourg sobrevivieron."
   ]
  },
  {
   "cell_type": "markdown",
   "id": "68ffbcfd",
   "metadata": {},
   "source": [
    "Finalmente veremos si hay alguna relación entre la tarifa del pasaje `Fare` y `Pclass`."
   ]
  },
  {
   "cell_type": "code",
   "execution_count": 11,
   "id": "b9381150",
   "metadata": {},
   "outputs": [
    {
     "data": {
      "text/html": [
       "<div>\n",
       "<style scoped>\n",
       "    .dataframe tbody tr th:only-of-type {\n",
       "        vertical-align: middle;\n",
       "    }\n",
       "\n",
       "    .dataframe tbody tr th {\n",
       "        vertical-align: top;\n",
       "    }\n",
       "\n",
       "    .dataframe thead th {\n",
       "        text-align: right;\n",
       "    }\n",
       "</style>\n",
       "<table border=\"1\" class=\"dataframe\">\n",
       "  <thead>\n",
       "    <tr style=\"text-align: right;\">\n",
       "      <th></th>\n",
       "      <th>count</th>\n",
       "      <th>mean</th>\n",
       "      <th>std</th>\n",
       "      <th>min</th>\n",
       "      <th>25%</th>\n",
       "      <th>50%</th>\n",
       "      <th>75%</th>\n",
       "      <th>max</th>\n",
       "    </tr>\n",
       "    <tr>\n",
       "      <th>Pclass</th>\n",
       "      <th></th>\n",
       "      <th></th>\n",
       "      <th></th>\n",
       "      <th></th>\n",
       "      <th></th>\n",
       "      <th></th>\n",
       "      <th></th>\n",
       "      <th></th>\n",
       "    </tr>\n",
       "  </thead>\n",
       "  <tbody>\n",
       "    <tr>\n",
       "      <th>1</th>\n",
       "      <td>212.0</td>\n",
       "      <td>83.546836</td>\n",
       "      <td>78.497216</td>\n",
       "      <td>0.0</td>\n",
       "      <td>30.6958</td>\n",
       "      <td>57.9792</td>\n",
       "      <td>93.5</td>\n",
       "      <td>512.3292</td>\n",
       "    </tr>\n",
       "    <tr>\n",
       "      <th>2</th>\n",
       "      <td>180.0</td>\n",
       "      <td>20.428287</td>\n",
       "      <td>12.931052</td>\n",
       "      <td>0.0</td>\n",
       "      <td>13.0000</td>\n",
       "      <td>14.2500</td>\n",
       "      <td>26.0</td>\n",
       "      <td>73.5000</td>\n",
       "    </tr>\n",
       "    <tr>\n",
       "      <th>3</th>\n",
       "      <td>483.0</td>\n",
       "      <td>13.734246</td>\n",
       "      <td>11.829019</td>\n",
       "      <td>0.0</td>\n",
       "      <td>7.7500</td>\n",
       "      <td>8.0500</td>\n",
       "      <td>15.5</td>\n",
       "      <td>69.5500</td>\n",
       "    </tr>\n",
       "  </tbody>\n",
       "</table>\n",
       "</div>"
      ],
      "text/plain": [
       "        count       mean        std  min      25%      50%   75%       max\n",
       "Pclass                                                                    \n",
       "1       212.0  83.546836  78.497216  0.0  30.6958  57.9792  93.5  512.3292\n",
       "2       180.0  20.428287  12.931052  0.0  13.0000  14.2500  26.0   73.5000\n",
       "3       483.0  13.734246  11.829019  0.0   7.7500   8.0500  15.5   69.5500"
      ]
     },
     "execution_count": 11,
     "metadata": {},
     "output_type": "execute_result"
    }
   ],
   "source": [
    "data.groupby(\"Pclass\").describe()[\"Fare\"]"
   ]
  },
  {
   "cell_type": "markdown",
   "id": "b193c895",
   "metadata": {},
   "source": [
    "Se observa claramente que los pasajes más caros corresponden a los de primera clase y los más baratos a los de tercera clase. Esto era esperado."
   ]
  },
  {
   "cell_type": "markdown",
   "id": "a8bc2a78",
   "metadata": {},
   "source": [
    "### Pre-procesamiento de los datos"
   ]
  },
  {
   "cell_type": "markdown",
   "id": "5cd73d6f",
   "metadata": {},
   "source": [
    "Revisamos la cantidad de categorías por columna"
   ]
  },
  {
   "cell_type": "code",
   "execution_count": 12,
   "id": "64b79f43",
   "metadata": {},
   "outputs": [
    {
     "data": {
      "text/plain": [
       "Name        868\n",
       "Ticket      666\n",
       "Embarked      3\n",
       "Pclass        3\n",
       "Sex           2\n",
       "SibSp         7\n",
       "Parch         7\n",
       "Fare        245\n",
       "Survived      2\n",
       "dtype: int64"
      ]
     },
     "execution_count": 12,
     "metadata": {},
     "output_type": "execute_result"
    }
   ],
   "source": [
    "data.nunique()"
   ]
  },
  {
   "cell_type": "markdown",
   "id": "e50c24f1",
   "metadata": {},
   "source": [
    "Como haremos un árbol de decisión, no nos sirve para clasificar ni el `Name` ni `Ticket` del pasajero. Es por esto que eliminaremos estas columnas para entrenar el modelo. Asimismo, la columna `Fare` toma muchos valores posibles por lo que la tranformaremos en categórica. Tendremos entonces:\n",
    "\n",
    "1. `Low`: `Fare < 15`\n",
    "2. `Medium`: `15 <= Fare < 30`\n",
    "3. `High`: `30 <= Fare`\n",
    "\n",
    "Estos números fueron decididos en base a lo hecho en la actividad 2."
   ]
  },
  {
   "cell_type": "code",
   "execution_count": 13,
   "id": "a96fd725",
   "metadata": {},
   "outputs": [
    {
     "data": {
      "text/html": [
       "<div>\n",
       "<style scoped>\n",
       "    .dataframe tbody tr th:only-of-type {\n",
       "        vertical-align: middle;\n",
       "    }\n",
       "\n",
       "    .dataframe tbody tr th {\n",
       "        vertical-align: top;\n",
       "    }\n",
       "\n",
       "    .dataframe thead th {\n",
       "        text-align: right;\n",
       "    }\n",
       "</style>\n",
       "<table border=\"1\" class=\"dataframe\">\n",
       "  <thead>\n",
       "    <tr style=\"text-align: right;\">\n",
       "      <th></th>\n",
       "      <th>Embarked</th>\n",
       "      <th>Pclass</th>\n",
       "      <th>Sex</th>\n",
       "      <th>SibSp</th>\n",
       "      <th>Parch</th>\n",
       "      <th>Fare</th>\n",
       "      <th>Survived</th>\n",
       "    </tr>\n",
       "    <tr>\n",
       "      <th>PassengerId</th>\n",
       "      <th></th>\n",
       "      <th></th>\n",
       "      <th></th>\n",
       "      <th></th>\n",
       "      <th></th>\n",
       "      <th></th>\n",
       "      <th></th>\n",
       "    </tr>\n",
       "  </thead>\n",
       "  <tbody>\n",
       "    <tr>\n",
       "      <th>1</th>\n",
       "      <td>S</td>\n",
       "      <td>3</td>\n",
       "      <td>male</td>\n",
       "      <td>1.0</td>\n",
       "      <td>0.0</td>\n",
       "      <td>Low</td>\n",
       "      <td>0.0</td>\n",
       "    </tr>\n",
       "    <tr>\n",
       "      <th>2</th>\n",
       "      <td>C</td>\n",
       "      <td>1</td>\n",
       "      <td>female</td>\n",
       "      <td>1.0</td>\n",
       "      <td>0.0</td>\n",
       "      <td>High</td>\n",
       "      <td>1.0</td>\n",
       "    </tr>\n",
       "    <tr>\n",
       "      <th>3</th>\n",
       "      <td>S</td>\n",
       "      <td>3</td>\n",
       "      <td>female</td>\n",
       "      <td>0.0</td>\n",
       "      <td>0.0</td>\n",
       "      <td>Low</td>\n",
       "      <td>1.0</td>\n",
       "    </tr>\n",
       "    <tr>\n",
       "      <th>4</th>\n",
       "      <td>S</td>\n",
       "      <td>1</td>\n",
       "      <td>female</td>\n",
       "      <td>1.0</td>\n",
       "      <td>0.0</td>\n",
       "      <td>High</td>\n",
       "      <td>1.0</td>\n",
       "    </tr>\n",
       "    <tr>\n",
       "      <th>5</th>\n",
       "      <td>S</td>\n",
       "      <td>3</td>\n",
       "      <td>male</td>\n",
       "      <td>0.0</td>\n",
       "      <td>0.0</td>\n",
       "      <td>Low</td>\n",
       "      <td>0.0</td>\n",
       "    </tr>\n",
       "    <tr>\n",
       "      <th>...</th>\n",
       "      <td>...</td>\n",
       "      <td>...</td>\n",
       "      <td>...</td>\n",
       "      <td>...</td>\n",
       "      <td>...</td>\n",
       "      <td>...</td>\n",
       "      <td>...</td>\n",
       "    </tr>\n",
       "    <tr>\n",
       "      <th>887</th>\n",
       "      <td>S</td>\n",
       "      <td>2</td>\n",
       "      <td>male</td>\n",
       "      <td>0.0</td>\n",
       "      <td>0.0</td>\n",
       "      <td>Low</td>\n",
       "      <td>0.0</td>\n",
       "    </tr>\n",
       "    <tr>\n",
       "      <th>888</th>\n",
       "      <td>S</td>\n",
       "      <td>1</td>\n",
       "      <td>female</td>\n",
       "      <td>0.0</td>\n",
       "      <td>0.0</td>\n",
       "      <td>Medium</td>\n",
       "      <td>1.0</td>\n",
       "    </tr>\n",
       "    <tr>\n",
       "      <th>889</th>\n",
       "      <td>S</td>\n",
       "      <td>3</td>\n",
       "      <td>female</td>\n",
       "      <td>1.0</td>\n",
       "      <td>2.0</td>\n",
       "      <td>Medium</td>\n",
       "      <td>0.0</td>\n",
       "    </tr>\n",
       "    <tr>\n",
       "      <th>890</th>\n",
       "      <td>C</td>\n",
       "      <td>1</td>\n",
       "      <td>male</td>\n",
       "      <td>0.0</td>\n",
       "      <td>0.0</td>\n",
       "      <td>Medium</td>\n",
       "      <td>1.0</td>\n",
       "    </tr>\n",
       "    <tr>\n",
       "      <th>891</th>\n",
       "      <td>Q</td>\n",
       "      <td>3</td>\n",
       "      <td>male</td>\n",
       "      <td>0.0</td>\n",
       "      <td>0.0</td>\n",
       "      <td>Low</td>\n",
       "      <td>0.0</td>\n",
       "    </tr>\n",
       "  </tbody>\n",
       "</table>\n",
       "<p>875 rows × 7 columns</p>\n",
       "</div>"
      ],
      "text/plain": [
       "            Embarked  Pclass     Sex  SibSp  Parch    Fare  Survived\n",
       "PassengerId                                                         \n",
       "1                  S       3    male    1.0    0.0     Low       0.0\n",
       "2                  C       1  female    1.0    0.0    High       1.0\n",
       "3                  S       3  female    0.0    0.0     Low       1.0\n",
       "4                  S       1  female    1.0    0.0    High       1.0\n",
       "5                  S       3    male    0.0    0.0     Low       0.0\n",
       "...              ...     ...     ...    ...    ...     ...       ...\n",
       "887                S       2    male    0.0    0.0     Low       0.0\n",
       "888                S       1  female    0.0    0.0  Medium       1.0\n",
       "889                S       3  female    1.0    2.0  Medium       0.0\n",
       "890                C       1    male    0.0    0.0  Medium       1.0\n",
       "891                Q       3    male    0.0    0.0     Low       0.0\n",
       "\n",
       "[875 rows x 7 columns]"
      ]
     },
     "execution_count": 13,
     "metadata": {},
     "output_type": "execute_result"
    }
   ],
   "source": [
    "data_training = data.drop([\"Name\", \"Ticket\"], axis=1)\n",
    "\n",
    "# Para este análisis se usó la actividad 2 \n",
    "data_training[\"Fare\"] = pd.cut(data_training.Fare, bins=[-1, 15, 30, 550], labels=[\"Low\", \"Medium\", \"High\"])\n",
    "\n",
    "data_training"
   ]
  },
  {
   "cell_type": "markdown",
   "id": "cbf10654",
   "metadata": {},
   "source": [
    "Luego, utilizaremos la función `get_dummies()` de `pandas` para pasar las columnas de strings a valores númericos"
   ]
  },
  {
   "cell_type": "code",
   "execution_count": 14,
   "id": "6619f29f",
   "metadata": {},
   "outputs": [
    {
     "data": {
      "text/html": [
       "<div>\n",
       "<style scoped>\n",
       "    .dataframe tbody tr th:only-of-type {\n",
       "        vertical-align: middle;\n",
       "    }\n",
       "\n",
       "    .dataframe tbody tr th {\n",
       "        vertical-align: top;\n",
       "    }\n",
       "\n",
       "    .dataframe thead th {\n",
       "        text-align: right;\n",
       "    }\n",
       "</style>\n",
       "<table border=\"1\" class=\"dataframe\">\n",
       "  <thead>\n",
       "    <tr style=\"text-align: right;\">\n",
       "      <th></th>\n",
       "      <th>Pclass</th>\n",
       "      <th>SibSp</th>\n",
       "      <th>Parch</th>\n",
       "      <th>Survived</th>\n",
       "      <th>Sex_female</th>\n",
       "      <th>Sex_male</th>\n",
       "      <th>Fare_Low</th>\n",
       "      <th>Fare_Medium</th>\n",
       "      <th>Fare_High</th>\n",
       "      <th>Embarked_C</th>\n",
       "      <th>Embarked_Q</th>\n",
       "      <th>Embarked_S</th>\n",
       "    </tr>\n",
       "    <tr>\n",
       "      <th>PassengerId</th>\n",
       "      <th></th>\n",
       "      <th></th>\n",
       "      <th></th>\n",
       "      <th></th>\n",
       "      <th></th>\n",
       "      <th></th>\n",
       "      <th></th>\n",
       "      <th></th>\n",
       "      <th></th>\n",
       "      <th></th>\n",
       "      <th></th>\n",
       "      <th></th>\n",
       "    </tr>\n",
       "  </thead>\n",
       "  <tbody>\n",
       "    <tr>\n",
       "      <th>1</th>\n",
       "      <td>3</td>\n",
       "      <td>1.0</td>\n",
       "      <td>0.0</td>\n",
       "      <td>0.0</td>\n",
       "      <td>0</td>\n",
       "      <td>1</td>\n",
       "      <td>1</td>\n",
       "      <td>0</td>\n",
       "      <td>0</td>\n",
       "      <td>0</td>\n",
       "      <td>0</td>\n",
       "      <td>1</td>\n",
       "    </tr>\n",
       "    <tr>\n",
       "      <th>2</th>\n",
       "      <td>1</td>\n",
       "      <td>1.0</td>\n",
       "      <td>0.0</td>\n",
       "      <td>1.0</td>\n",
       "      <td>1</td>\n",
       "      <td>0</td>\n",
       "      <td>0</td>\n",
       "      <td>0</td>\n",
       "      <td>1</td>\n",
       "      <td>1</td>\n",
       "      <td>0</td>\n",
       "      <td>0</td>\n",
       "    </tr>\n",
       "    <tr>\n",
       "      <th>3</th>\n",
       "      <td>3</td>\n",
       "      <td>0.0</td>\n",
       "      <td>0.0</td>\n",
       "      <td>1.0</td>\n",
       "      <td>1</td>\n",
       "      <td>0</td>\n",
       "      <td>1</td>\n",
       "      <td>0</td>\n",
       "      <td>0</td>\n",
       "      <td>0</td>\n",
       "      <td>0</td>\n",
       "      <td>1</td>\n",
       "    </tr>\n",
       "    <tr>\n",
       "      <th>4</th>\n",
       "      <td>1</td>\n",
       "      <td>1.0</td>\n",
       "      <td>0.0</td>\n",
       "      <td>1.0</td>\n",
       "      <td>1</td>\n",
       "      <td>0</td>\n",
       "      <td>0</td>\n",
       "      <td>0</td>\n",
       "      <td>1</td>\n",
       "      <td>0</td>\n",
       "      <td>0</td>\n",
       "      <td>1</td>\n",
       "    </tr>\n",
       "    <tr>\n",
       "      <th>5</th>\n",
       "      <td>3</td>\n",
       "      <td>0.0</td>\n",
       "      <td>0.0</td>\n",
       "      <td>0.0</td>\n",
       "      <td>0</td>\n",
       "      <td>1</td>\n",
       "      <td>1</td>\n",
       "      <td>0</td>\n",
       "      <td>0</td>\n",
       "      <td>0</td>\n",
       "      <td>0</td>\n",
       "      <td>1</td>\n",
       "    </tr>\n",
       "    <tr>\n",
       "      <th>...</th>\n",
       "      <td>...</td>\n",
       "      <td>...</td>\n",
       "      <td>...</td>\n",
       "      <td>...</td>\n",
       "      <td>...</td>\n",
       "      <td>...</td>\n",
       "      <td>...</td>\n",
       "      <td>...</td>\n",
       "      <td>...</td>\n",
       "      <td>...</td>\n",
       "      <td>...</td>\n",
       "      <td>...</td>\n",
       "    </tr>\n",
       "    <tr>\n",
       "      <th>887</th>\n",
       "      <td>2</td>\n",
       "      <td>0.0</td>\n",
       "      <td>0.0</td>\n",
       "      <td>0.0</td>\n",
       "      <td>0</td>\n",
       "      <td>1</td>\n",
       "      <td>1</td>\n",
       "      <td>0</td>\n",
       "      <td>0</td>\n",
       "      <td>0</td>\n",
       "      <td>0</td>\n",
       "      <td>1</td>\n",
       "    </tr>\n",
       "    <tr>\n",
       "      <th>888</th>\n",
       "      <td>1</td>\n",
       "      <td>0.0</td>\n",
       "      <td>0.0</td>\n",
       "      <td>1.0</td>\n",
       "      <td>1</td>\n",
       "      <td>0</td>\n",
       "      <td>0</td>\n",
       "      <td>1</td>\n",
       "      <td>0</td>\n",
       "      <td>0</td>\n",
       "      <td>0</td>\n",
       "      <td>1</td>\n",
       "    </tr>\n",
       "    <tr>\n",
       "      <th>889</th>\n",
       "      <td>3</td>\n",
       "      <td>1.0</td>\n",
       "      <td>2.0</td>\n",
       "      <td>0.0</td>\n",
       "      <td>1</td>\n",
       "      <td>0</td>\n",
       "      <td>0</td>\n",
       "      <td>1</td>\n",
       "      <td>0</td>\n",
       "      <td>0</td>\n",
       "      <td>0</td>\n",
       "      <td>1</td>\n",
       "    </tr>\n",
       "    <tr>\n",
       "      <th>890</th>\n",
       "      <td>1</td>\n",
       "      <td>0.0</td>\n",
       "      <td>0.0</td>\n",
       "      <td>1.0</td>\n",
       "      <td>0</td>\n",
       "      <td>1</td>\n",
       "      <td>0</td>\n",
       "      <td>1</td>\n",
       "      <td>0</td>\n",
       "      <td>1</td>\n",
       "      <td>0</td>\n",
       "      <td>0</td>\n",
       "    </tr>\n",
       "    <tr>\n",
       "      <th>891</th>\n",
       "      <td>3</td>\n",
       "      <td>0.0</td>\n",
       "      <td>0.0</td>\n",
       "      <td>0.0</td>\n",
       "      <td>0</td>\n",
       "      <td>1</td>\n",
       "      <td>1</td>\n",
       "      <td>0</td>\n",
       "      <td>0</td>\n",
       "      <td>0</td>\n",
       "      <td>1</td>\n",
       "      <td>0</td>\n",
       "    </tr>\n",
       "  </tbody>\n",
       "</table>\n",
       "<p>875 rows × 12 columns</p>\n",
       "</div>"
      ],
      "text/plain": [
       "             Pclass  SibSp  Parch  Survived  Sex_female  Sex_male  Fare_Low  \\\n",
       "PassengerId                                                                   \n",
       "1                 3    1.0    0.0       0.0           0         1         1   \n",
       "2                 1    1.0    0.0       1.0           1         0         0   \n",
       "3                 3    0.0    0.0       1.0           1         0         1   \n",
       "4                 1    1.0    0.0       1.0           1         0         0   \n",
       "5                 3    0.0    0.0       0.0           0         1         1   \n",
       "...             ...    ...    ...       ...         ...       ...       ...   \n",
       "887               2    0.0    0.0       0.0           0         1         1   \n",
       "888               1    0.0    0.0       1.0           1         0         0   \n",
       "889               3    1.0    2.0       0.0           1         0         0   \n",
       "890               1    0.0    0.0       1.0           0         1         0   \n",
       "891               3    0.0    0.0       0.0           0         1         1   \n",
       "\n",
       "             Fare_Medium  Fare_High  Embarked_C  Embarked_Q  Embarked_S  \n",
       "PassengerId                                                              \n",
       "1                      0          0           0           0           1  \n",
       "2                      0          1           1           0           0  \n",
       "3                      0          0           0           0           1  \n",
       "4                      0          1           0           0           1  \n",
       "5                      0          0           0           0           1  \n",
       "...                  ...        ...         ...         ...         ...  \n",
       "887                    0          0           0           0           1  \n",
       "888                    1          0           0           0           1  \n",
       "889                    1          0           0           0           1  \n",
       "890                    1          0           1           0           0  \n",
       "891                    0          0           0           1           0  \n",
       "\n",
       "[875 rows x 12 columns]"
      ]
     },
     "execution_count": 14,
     "metadata": {},
     "output_type": "execute_result"
    }
   ],
   "source": [
    "data_training = pd.get_dummies(data_training, columns=[\"Sex\", \"Fare\", \"Embarked\"])\n",
    "data_training"
   ]
  },
  {
   "cell_type": "markdown",
   "id": "6d45e1b1",
   "metadata": {},
   "source": [
    "Nos interesa ahora saber el tamaño del dataset con el que trabajaremos"
   ]
  },
  {
   "cell_type": "code",
   "execution_count": 15,
   "id": "25d039e4",
   "metadata": {},
   "outputs": [
    {
     "data": {
      "text/plain": [
       "(875, 12)"
      ]
     },
     "execution_count": 15,
     "metadata": {},
     "output_type": "execute_result"
    }
   ],
   "source": [
    "data_training.shape"
   ]
  },
  {
   "cell_type": "markdown",
   "id": "6292cb8b",
   "metadata": {},
   "source": [
    "Ahora debemos separar los datos en la matriz de características (`X`) y el vector de etiquetas (`y`) para trabajar con el"
   ]
  },
  {
   "cell_type": "code",
   "execution_count": 16,
   "id": "38d400df",
   "metadata": {},
   "outputs": [],
   "source": [
    "X = data_training.loc[:, data_training.columns != \"Survived\"]\n",
    "y = data_training[\"Survived\"]"
   ]
  },
  {
   "cell_type": "markdown",
   "id": "bde9d27b",
   "metadata": {},
   "source": [
    "Utilizaremos `train_test_split` de `sklearn.model_selection` para dividir los datos en sets de entrenamiento y test. Elegiremos un 80% de los datos para entrenar y 20% para test. Esto de acuerdo a lo visto en clases que recomendaba utilizar 60-80% para entrenamiento y 20-40% para test."
   ]
  },
  {
   "cell_type": "code",
   "execution_count": 17,
   "id": "34c2033b",
   "metadata": {},
   "outputs": [],
   "source": [
    "from sklearn.model_selection import train_test_split\n",
    "X_train, X_test, y_train, y_test = train_test_split(X, y, test_size=0.2)"
   ]
  },
  {
   "cell_type": "markdown",
   "id": "287fdc72",
   "metadata": {},
   "source": [
    "Veremos el tamaño de nuestros sets"
   ]
  },
  {
   "cell_type": "code",
   "execution_count": 18,
   "id": "e13e88a0",
   "metadata": {},
   "outputs": [
    {
     "name": "stdout",
     "output_type": "stream",
     "text": [
      "Tamaño X train (700, 11)\n",
      "Tamaño y train (700,)\n",
      "Tamaño X test  (175, 11)\n",
      "Tamaño y test  (175,)\n"
     ]
    }
   ],
   "source": [
    "print(f\"Tamaño X train {X_train.shape}\")\n",
    "print(f\"Tamaño y train {y_train.shape}\")\n",
    "print(f\"Tamaño X test  {X_test.shape}\")\n",
    "print(f\"Tamaño y test  {y_test.shape}\")"
   ]
  },
  {
   "cell_type": "markdown",
   "id": "6550c826",
   "metadata": {},
   "source": [
    "Mediremos ahora la cantidad de `Survived` en cada set."
   ]
  },
  {
   "cell_type": "code",
   "execution_count": 19,
   "id": "2c2fe17c",
   "metadata": {},
   "outputs": [
    {
     "name": "stdout",
     "output_type": "stream",
     "text": [
      "Survived en set entrenamiento: 275.0\n",
      "Survived en set test: 62.0\n"
     ]
    }
   ],
   "source": [
    "print(f\"Survived en set entrenamiento: {y_train.sum()}\")\n",
    "print(f\"Survived en set test: {y_test.sum()}\")"
   ]
  },
  {
   "cell_type": "markdown",
   "id": "0a9efe3b",
   "metadata": {},
   "source": [
    "Sin embargo, nos interesa la proporción de estos."
   ]
  },
  {
   "cell_type": "code",
   "execution_count": 20,
   "id": "43fa77f0",
   "metadata": {},
   "outputs": [
    {
     "name": "stdout",
     "output_type": "stream",
     "text": [
      "Survived en set entrenamiento: 0.39285714285714285\n",
      "Survived en set test: 0.35428571428571426\n",
      "Survived en todo el set: 0.3851428571428571\n"
     ]
    }
   ],
   "source": [
    "print(f\"Survived en set entrenamiento: {y_train.sum()/y_train.count()}\")\n",
    "print(f\"Survived en set test: {y_test.sum()/y_test.count()}\")\n",
    "print(f\"Survived en todo el set: {y.sum()/y.count()}\")"
   ]
  },
  {
   "cell_type": "markdown",
   "id": "f1a93f92",
   "metadata": {},
   "source": [
    "Se ve que están aceptablemente balanceadas ya que ningún set se aleja mucho de la proporción real. Si están demasiado desbalanceadas existe el riesgo de que el modelo no entrene bien y no pueda generalizar, así como existe el riesgo de que haga overfitting."
   ]
  },
  {
   "cell_type": "markdown",
   "id": "02248a55",
   "metadata": {},
   "source": [
    "### Entrenando un árbol de decisión"
   ]
  },
  {
   "cell_type": "markdown",
   "id": "2cc1ac24",
   "metadata": {},
   "source": [
    "Utilizaremos `sklearn` para entrenar un árbol de decisión"
   ]
  },
  {
   "cell_type": "code",
   "execution_count": 21,
   "id": "085d2dd1",
   "metadata": {},
   "outputs": [],
   "source": [
    "from sklearn.tree import DecisionTreeClassifier"
   ]
  },
  {
   "cell_type": "markdown",
   "id": "2def9198",
   "metadata": {},
   "source": [
    "Elegimos un `max_depth` relativamente bajo para evitar riesgo de overfitting y el criterio de `entropy` porque fue el visto en clases."
   ]
  },
  {
   "cell_type": "code",
   "execution_count": 22,
   "id": "da88ee85",
   "metadata": {},
   "outputs": [],
   "source": [
    "tree = DecisionTreeClassifier(criterion=\"entropy\", max_depth=4)\n",
    "tree.fit(X_train, y_train)\n",
    "\n",
    "y_pred = tree.predict(X_test)"
   ]
  },
  {
   "cell_type": "markdown",
   "id": "2c2bb7ee",
   "metadata": {},
   "source": [
    "Evaluaremos ahora la calidad de nuestra predicción. (Fuente: https://www.datacamp.com/tutorial/decision-tree-classification-python)"
   ]
  },
  {
   "cell_type": "code",
   "execution_count": 23,
   "id": "53caa776",
   "metadata": {},
   "outputs": [
    {
     "data": {
      "text/plain": [
       "0.7942857142857143"
      ]
     },
     "execution_count": 23,
     "metadata": {},
     "output_type": "execute_result"
    }
   ],
   "source": [
    "from sklearn import metrics\n",
    "\n",
    "metrics.accuracy_score(y_test, y_pred)"
   ]
  },
  {
   "cell_type": "markdown",
   "id": "34bcddee",
   "metadata": {},
   "source": [
    "Vemos que nuestro árbol tiene un rendimiento de aproximadamente 83.4% como los datos de `test`."
   ]
  },
  {
   "cell_type": "markdown",
   "id": "92a9fca8",
   "metadata": {},
   "source": [
    "Visualicemos ahora los resultados con su matriz de confusión"
   ]
  },
  {
   "cell_type": "code",
   "execution_count": 24,
   "id": "203c7427",
   "metadata": {},
   "outputs": [
    {
     "data": {
      "text/plain": [
       "<sklearn.metrics._plot.confusion_matrix.ConfusionMatrixDisplay at 0x123ab55d0>"
      ]
     },
     "execution_count": 24,
     "metadata": {},
     "output_type": "execute_result"
    },
    {
     "data": {
      "image/png": "[encoded data removed]",
      "text/plain": [
       "<Figure size 432x288 with 2 Axes>"
      ]
     },
     "metadata": {
      "needs_background": "light"
     },
     "output_type": "display_data"
    }
   ],
   "source": [
    "conf_mat = metrics.confusion_matrix(y_test, y_pred, normalize=\"true\")\n",
    "plot = metrics.ConfusionMatrixDisplay(conf_mat)\n",
    "plot.plot()"
   ]
  },
  {
   "cell_type": "markdown",
   "id": "088d9d54",
   "metadata": {},
   "source": [
    "### Entrenando un Random Forest"
   ]
  },
  {
   "cell_type": "markdown",
   "id": "bae2b88a",
   "metadata": {},
   "source": [
    "Utilizaremos `sklearn` para entrenar un Random Forest"
   ]
  },
  {
   "cell_type": "code",
   "execution_count": 25,
   "id": "4af2433a",
   "metadata": {},
   "outputs": [],
   "source": [
    "from sklearn.ensemble import RandomForestClassifier"
   ]
  },
  {
   "cell_type": "markdown",
   "id": "8cc2fa2c",
   "metadata": {},
   "source": [
    "Entrenamos nuestro random forest."
   ]
  },
  {
   "cell_type": "code",
   "execution_count": 26,
   "id": "6f181b62",
   "metadata": {},
   "outputs": [],
   "source": [
    "random_forest = RandomForestClassifier(criterion=\"entropy\", max_depth=3)\n",
    "random_forest.fit(X_train, y_train)\n",
    "y_predict = random_forest.predict(X_test)"
   ]
  },
  {
   "cell_type": "markdown",
   "id": "5dae690f",
   "metadata": {},
   "source": [
    "Medimos su rendimiento con el set de `test`."
   ]
  },
  {
   "cell_type": "code",
   "execution_count": 27,
   "id": "bf149ab7",
   "metadata": {},
   "outputs": [
    {
     "data": {
      "text/plain": [
       "0.7771428571428571"
      ]
     },
     "execution_count": 27,
     "metadata": {},
     "output_type": "execute_result"
    }
   ],
   "source": [
    "metrics.accuracy_score(y_test, y_predict)"
   ]
  },
  {
   "cell_type": "markdown",
   "id": "bccc0ffa",
   "metadata": {},
   "source": [
    "Observamos que tiene un rendimiento de 80% con el set de `test`."
   ]
  },
  {
   "cell_type": "markdown",
   "id": "d87e4280",
   "metadata": {},
   "source": [
    "Visualicemos ahora los resultados con su matriz de confusión"
   ]
  },
  {
   "cell_type": "code",
   "execution_count": 28,
   "id": "ae95f096",
   "metadata": {},
   "outputs": [
    {
     "data": {
      "text/plain": [
       "<sklearn.metrics._plot.confusion_matrix.ConfusionMatrixDisplay at 0x10f5cee60>"
      ]
     },
     "execution_count": 28,
     "metadata": {},
     "output_type": "execute_result"
    },
    {
     "data": {
      "image/png": "[encoded data removed]",
      "text/plain": [
       "<Figure size 432x288 with 2 Axes>"
      ]
     },
     "metadata": {
      "needs_background": "light"
     },
     "output_type": "display_data"
    }
   ],
   "source": [
    "conf_mat = metrics.confusion_matrix(y_test, y_predict, normalize=\"true\")\n",
    "plot = metrics.ConfusionMatrixDisplay(conf_mat)\n",
    "plot.plot()"
   ]
  },
  {
   "cell_type": "code",
   "execution_count": null,
   "id": "b1f6058d",
   "metadata": {},
   "outputs": [],
   "source": []
  }
 ],
 "metadata": {
  "kernelspec": {
   "display_name": "Python 3.10.7 64-bit",
   "language": "python",
   "name": "python3"
  },
  "language_info": {
   "codemirror_mode": {
    "name": "ipython",
    "version": 3
   },
   "file_extension": ".py",
   "mimetype": "text/x-python",
   "name": "python",
   "nbconvert_exporter": "python",
   "pygments_lexer": "ipython3",
   "version": "3.10.8"
  },
  "vscode": {
   "interpreter": {
    "hash": "b460384b52104c1e5b9cf54bee46a255d22b2bef338f75ac4ad5d48196028d3c"
   }
  }
 },
 "nbformat": 4,
 "nbformat_minor": 5
}
