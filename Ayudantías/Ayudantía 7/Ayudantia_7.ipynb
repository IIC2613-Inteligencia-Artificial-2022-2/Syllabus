{
 "cells": [
  {
   "cell_type": "markdown",
   "metadata": {},
   "source": [
    "# **AYUDANTÍA #01:** Introducción al Machine Learning"
   ]
  },
  {
   "cell_type": "markdown",
   "metadata": {},
   "source": [
    "<!-- ![a](https://blog.anybox.fr/content/images/2020/01/scikit-learn-1.png) -->\n",
    "<img src=\"https://blog.anybox.fr/content/images/2020/01/scikit-learn-1.png\" width=\"40%\" />\n",
    "\n",
    "Dentro de las librerías más populares para implementar modelos de machine learning encontramos a [scikit-learn](https://scikit-learn.org/stable/) (también conocido como *sklearn*), una librería de Python que, en razgos generales, nos permite entrenar, probar e implementar modelos de aprendizaje de máquina de forma fácil, rápida y eficiente. En particular, nos permite llevar a cabo tareas de [regresión](https://scikit-learn.org/stable/supervised_learning.html#supervised-learning), [clasificación](https://scikit-learn.org/stable/supervised_learning.html#supervised-learning), [clustering](https://scikit-learn.org/stable/modules/clustering.html#clustering), [selección de modelos](https://scikit-learn.org/stable/model_selection.html#model-selection) y [preprocesamiento de datos](https://scikit-learn.org/stable/modules/preprocessing.html#preprocessing).\n",
    "\n",
    "No te preocupes si todavía no te manejas con estos conceptos, ya que serán indagados y trabajados durante el resto del curso."
   ]
  },
  {
   "cell_type": "markdown",
   "metadata": {},
   "source": [
    "## 1. Instalación de la librería\n",
    "\n",
    "La implementación de scikit-learn está construida encima de múltiples librerías, siendo las dos principales [Numpy](https://numpy.org/) y [SciPy](https://scipy.org/) (específicamente, aprenderemos más sobre Python más adelante en este tutorial). Afortunadamente, al instalar la librería nuestro instalador de paquetes automáticamente instalará todas las dependencias necesarias para su apropiado funcionamiento.\n",
    "\n",
    "Dependiendo de nuestro instalador de preferencia (el autor recomienda usar `pip`), podemos descargar sklearn mediante el siguiente comando en nuestra consola:\n",
    "- `pip install -U scikit-learn`\n",
    "- `conda install scikit-learn`\n",
    "\n",
    "Además, aprovecharemos de instalar la librería de manejo de datos [Pandas](https://pandas.pydata.org/), que nos permite trabajar los datos de numpy de una forma más ordenada y comprensible y aprenderemos a utilizar en este notebook. Es ampliamente utilizada en el mundo de la ciencia de datos y será una buena herramienta para saber en caso de querer trabajar con datos reales.\n",
    "\n",
    "Instalamos *pandas* de forma muy similar a *sklearn*, dependiendo de nuestro instalador:\n",
    "- `pip install -U pandas`\n",
    "- `conda install pandas`\n",
    "\n",
    "Cabe mencionar que algunas distribuciones de Python como [*Anaconda*](https://www.anaconda.com/products/distribution) ya incluyen la última versión de scikit-learn y pandas, por lo que no necesitan de su instalación."
   ]
  },
  {
   "cell_type": "markdown",
   "metadata": {},
   "source": [
    "## 2. Importando la librería a nuestro proyecto"
   ]
  },
  {
   "cell_type": "markdown",
   "metadata": {},
   "source": [
    "Una vez instalada, podemos importar la librería scikit-learn a nuestro proyecto de Python mediante la siguiente línea:"
   ]
  },
  {
   "cell_type": "code",
   "execution_count": 1,
   "metadata": {},
   "outputs": [],
   "source": [
    "import sklearn"
   ]
  },
  {
   "cell_type": "markdown",
   "metadata": {},
   "source": [
    "Por lo general, al trabajar en proyectos de machine learning también nos gustaría importar directamente librerías como Numpy y Pandas para poder trabajar con las estructuras de datos directamente. Esto lo haremos mediante las líneas:"
   ]
  },
  {
   "cell_type": "code",
   "execution_count": 2,
   "metadata": {},
   "outputs": [],
   "source": [
    "import numpy as np      # Por convención importamos numpy bajo el nombre np\n",
    "import pandas as pd     # Similar a numpy, generalmente importamos pandas con el nombre pd"
   ]
  },
  {
   "cell_type": "markdown",
   "metadata": {},
   "source": [
    "# 3. Uso de Numpy y Pandas"
   ]
  },
  {
   "cell_type": "markdown",
   "metadata": {},
   "source": [
    "A continuación se llevará a cabo una introducción al uso de estas dos librerías de gran utilidad, para una explicación más en profundidad, se recomienda revisar la documentación de cada una de ellas.\n",
    "\n",
    "- [Documentación de Numpy](https://numpy.org/doc/stable/)\n",
    "- [Documentación de Pandas](https://pandas.pydata.org/docs/)"
   ]
  },
  {
   "cell_type": "markdown",
   "metadata": {},
   "source": [
    "### 3.1 Numpy"
   ]
  },
  {
   "cell_type": "markdown",
   "metadata": {},
   "source": [
    "Numpy es una librería de uso matemático en Python que nos permite trabajar con matrices y vectores bajo el nombre de *arrays*. Estructuras que ganan especial importancia en el contexto del aprendizaje de máquina ya que nos permiten representar información en base a múltiples características.\n",
    "\n",
    "Por ejemplo, pensemos en un grupo de cuatro patos de los que buscamos guardar su edad.\n",
    "\n",
    "<!-- ![a](https://beautyalongtheroad.files.wordpress.com/2015/04/four-ducks.jpg?w=640) -->\n",
    "<p align=\"center\">\n",
    "    <img src=\"https://beautyalongtheroad.files.wordpress.com/2015/04/four-ducks.jpg?w=640\" width=\"30%\"/>\n",
    "</p>\n",
    "\n",
    "Podríamos pensar en almacenar la edad de cada pato en una lista, con cada posición correspondiendo a la edad de un pato (en meses):"
   ]
  },
  {
   "cell_type": "code",
   "execution_count": 3,
   "metadata": {},
   "outputs": [
    {
     "data": {
      "text/plain": [
       "[13, 8, 5, 28]"
      ]
     },
     "execution_count": 3,
     "metadata": {},
     "output_type": "execute_result"
    }
   ],
   "source": [
    "edad_patos = [13, 8, 5, 28]\n",
    "\n",
    "edad_patos"
   ]
  },
  {
   "cell_type": "markdown",
   "metadata": {},
   "source": [
    "Ahora bien, si buscamos añadir otras características como por ejemplo, el tamaño y el peso, nos damos cuenta de que no es tan fácil almacenar esta información (podríamos usar diccionarios en una lista, pero nuevamente se trata de una estructura más compleja).\n",
    "\n",
    "Es debido a esto que se ha hecho la convención de utilizar estructuras del tipo matricial para representar este tipo de datos donde **cada fila corresponderá a un elemento distinto y cada columna corresponderá a una característica distinta**.\n",
    "\n",
    "De este modo, una matriz de m x n elementos (partiendo la cuenta desde el cero) se vería de la forma:\n",
    "\n",
    "|  x<sub>0,0</sub>  | x<sub>0,1</sub> | ... | x<sub>0,n-1</sub> |\n",
    "|:---:|:-:|:---:|:-:|\n",
    "|  x<sub>1,0</sub>  | x<sub>1,1</sub> | ... | x<sub>1,n-1</sub> |\n",
    "| ... | ... | ... | ... |\n",
    "|  x<sub>m-1,0</sub>  | x<sub>m-1,1</sub> | ... | x<sub>m-1,n-1</sub> |\n",
    "\n",
    "En el caso de la matriz de características de los patos, esta tendría 4x3 elementos (no contamos el título de la tabla) y se vería algo así:\n",
    "\n",
    "|  Edad  | Peso | Tamaño |\n",
    "|:---:|:-:|:---:|\n",
    "| 13 | 3.2 | 24 |\n",
    "| 8 | 2.1 | 13 |\n",
    "| 5 | 1.4 | 8 |\n",
    "| 28 | 4.1 | 23 |\n",
    "\n",
    "Para representarla en Python utilizamos la librería numpy, generando una matriz a partir de una lista de listas de la siguiente forma:"
   ]
  },
  {
   "cell_type": "code",
   "execution_count": 4,
   "metadata": {},
   "outputs": [
    {
     "data": {
      "text/plain": [
       "array([[13. ,  3.2, 24. ],\n",
       "       [ 8. ,  2.1, 13. ],\n",
       "       [ 5. ,  1.4,  8. ],\n",
       "       [28. ,  4.1, 23. ]])"
      ]
     },
     "execution_count": 4,
     "metadata": {},
     "output_type": "execute_result"
    }
   ],
   "source": [
    "info_patos = np.array([[13, 3.2, 24],\n",
    "                        [8, 2.1, 13],\n",
    "                        [5, 1.4, 8],\n",
    "                        [28, 4.1, 23]])\n",
    "\n",
    "info_patos"
   ]
  },
  {
   "cell_type": "markdown",
   "metadata": {},
   "source": [
    "Notamos que podemos acceder a las características del i-ésimo pato indexando el *array* en su i-ésimo elemento (contando desde el cero)."
   ]
  },
  {
   "cell_type": "code",
   "execution_count": 5,
   "metadata": {},
   "outputs": [
    {
     "data": {
      "text/plain": [
       "array([13. ,  3.2, 24. ])"
      ]
     },
     "execution_count": 5,
     "metadata": {},
     "output_type": "execute_result"
    }
   ],
   "source": [
    "info_patos[0]   # Información del primer pato"
   ]
  },
  {
   "cell_type": "markdown",
   "metadata": {},
   "source": [
    "De forma similar, podemos acceder a la j-ésima columna de información (la j-ésima característica), al pedir todas las filas (usando dos puntos \":\") y seleccionando entre las columnas"
   ]
  },
  {
   "cell_type": "code",
   "execution_count": 6,
   "metadata": {},
   "outputs": [
    {
     "data": {
      "text/plain": [
       "array([13.,  8.,  5., 28.])"
      ]
     },
     "execution_count": 6,
     "metadata": {},
     "output_type": "execute_result"
    }
   ],
   "source": [
    "info_patos[:, 0]    # Primera característica (edad) de cada pato"
   ]
  },
  {
   "cell_type": "markdown",
   "metadata": {},
   "source": [
    "Para acceder al i-ésimo pato y su j-ésima característica, podemos indexar de forma similar a como lo haríamos en una lista de listas, o bien separando cada índice por comas"
   ]
  },
  {
   "cell_type": "code",
   "execution_count": 7,
   "metadata": {},
   "outputs": [
    {
     "data": {
      "text/plain": [
       "1.4"
      ]
     },
     "execution_count": 7,
     "metadata": {},
     "output_type": "execute_result"
    }
   ],
   "source": [
    "info_patos[2][1]    # Segunda característica (peso) del tercer pato\n",
    "info_patos[2, 1]    # Nomenclatura equivalente, más ordenada"
   ]
  },
  {
   "cell_type": "markdown",
   "metadata": {},
   "source": [
    "Numpy también nos permite obtener información sobre las tablas con cuales trabajemos mediante algunas funciones construidas directamente en la librería, aquí se encuentran algunas de las más destacadas:"
   ]
  },
  {
   "cell_type": "code",
   "execution_count": 8,
   "metadata": {},
   "outputs": [
    {
     "data": {
      "text/plain": [
       "array([[13. ,  3.2, 24. ,  1. ],\n",
       "       [ 8. ,  2.1, 13. ,  1. ],\n",
       "       [ 5. ,  1.4,  8. ,  1. ],\n",
       "       [28. ,  4.1, 23. ,  1. ]])"
      ]
     },
     "execution_count": 8,
     "metadata": {},
     "output_type": "execute_result"
    }
   ],
   "source": [
    "# Comenta/descomenta cada línea para ver que pasa\n",
    "\n",
    "np.shape(info_patos)                    # Nos retorna las dimensiones del array trabajado en una tupla\n",
    "\n",
    "np.max(info_patos)                      # Nos retorna el valor máximo de todo el array\n",
    "np.argmax(info_patos, axis = 0)         # Nos retorna el índice del valor máximo del array en cierto eje (0 para filas, 1 para columnas) en forma de una lista\n",
    "\n",
    "np.min(info_patos)                      # Nos retorna el valor mínimo de todo el array\n",
    "np.argmin(info_patos, axis = 1)         # Nos retorna el índice del valor mínimo del array en cierto eje (0 para filas, 1 para columnas) en forma de una lista\n",
    "\n",
    "np.mean(info_patos)                     # Nos retorna el valor promedio de todos los datos en el array\n",
    "np.std(info_patos)                      # Nos retorna la desviación estándar de todos los datos en el array\n",
    "np.median(info_patos)                   # Nos retorna el valor medio de todos los datos en el array\n",
    "\n",
    "np.sort(info_patos)                     # Nos permite ordenar el array según los valores de algún eje, por defecto usa la última dimensión\n",
    "np.sort(info_patos, axis = 0)           # Ordena el array según el valor de sus filas\n",
    "np.sort(info_patos, axis = 1)           # Ordena el array según el valor de sus columnas\n",
    "\n",
    "np.reshape(info_patos, (1, 12))         # Reordena el array a las dimensiones deseadas (en este caso, de 4x3 a 1x12)\n",
    "\n",
    "np.vstack((info_patos, (1, 1, 1)))              # Apila todos los arrays entregados (dentro de una tupla) de forma vertical (por filas), retornando un nuevo elemento\n",
    "np.append(info_patos, [(1, 1, 1)], axis = 0)    # Muy similar a lo anterior, añade los segundos elementos al primero en el eje electo (filas)\n",
    "np.append(info_patos, [[1], [1], [1], [1]], axis = 1)    # En este caso, añadimos una columna nueva, ojo con la forma en que se forman las columnas"
   ]
  },
  {
   "cell_type": "markdown",
   "metadata": {},
   "source": [
    "Estas funciones también pueden ser llamadas directamente desde el array con que trabajamos, aplicándose directamente sobre sí mismo. Por ejemplo, el uso de `np.shape()`, normalmente se hace directamente sobre el array."
   ]
  },
  {
   "cell_type": "code",
   "execution_count": 9,
   "metadata": {},
   "outputs": [
    {
     "name": "stdout",
     "output_type": "stream",
     "text": [
      "(4, 3)\n",
      "1.4\n"
     ]
    }
   ],
   "source": [
    "print(info_patos.shape) # También nos retorna las dimensiones del array trabajado, en este caso es una propiedad del array\n",
    "\n",
    "print(info_patos.min()) # El método min se trata de una función y no una propiedad del array, por lo que debe llamarse con paréntesis"
   ]
  },
  {
   "cell_type": "markdown",
   "metadata": {},
   "source": [
    "Es importante destacar que todos estos métodos pueden ser aplicados en secciones del array, como las selecciones de ciertas características que llevamos a cabo anteriormente. Esto nos permite realizar consultas sobre la información de forma eficiente y ordenada."
   ]
  },
  {
   "cell_type": "markdown",
   "metadata": {},
   "source": [
    "Por otro lado, numpy también nos otorga funciones para poder generar arrays de forma rápida:"
   ]
  },
  {
   "cell_type": "code",
   "execution_count": 10,
   "metadata": {},
   "outputs": [
    {
     "data": {
      "text/plain": [
       "array([[4, 9, 9],\n",
       "       [3, 0, 3]])"
      ]
     },
     "execution_count": 10,
     "metadata": {},
     "output_type": "execute_result"
    }
   ],
   "source": [
    "np.random.randint(low = 0, high = 10, size = (2, 3))    # Genera un array de números enteros aleatorios, con mínimo en low y máximo en high,\n",
    "                                                        # de dimensiones size (en este caso 2x3)"
   ]
  },
  {
   "cell_type": "code",
   "execution_count": 11,
   "metadata": {},
   "outputs": [
    {
     "data": {
      "text/plain": [
       "array([[0.68201637, 0.84480898, 0.7540238 , 0.42708739],\n",
       "       [0.23881027, 0.86536134, 0.46834033, 0.83143099],\n",
       "       [0.99261627, 0.79645267, 0.95457141, 0.41990068]])"
      ]
     },
     "execution_count": 11,
     "metadata": {},
     "output_type": "execute_result"
    }
   ],
   "source": [
    "np.random.random(size = (3, 4))  # Genera un array de valores aleatorios entre los números 0 y 1 y de dimensiones size (en este caso, 3x4)"
   ]
  },
  {
   "cell_type": "code",
   "execution_count": 12,
   "metadata": {},
   "outputs": [
    {
     "data": {
      "text/plain": [
       "array([[0., 0., 0., 0., 0., 0., 0., 0., 0., 0.],\n",
       "       [0., 0., 0., 0., 0., 0., 0., 0., 0., 0.]])"
      ]
     },
     "execution_count": 12,
     "metadata": {},
     "output_type": "execute_result"
    }
   ],
   "source": [
    "np.zeros(shape = (2, 10))    # Genera un array llena de ceros de dimensiones shape (en este caso 2x10)"
   ]
  },
  {
   "cell_type": "code",
   "execution_count": 13,
   "metadata": {},
   "outputs": [
    {
     "data": {
      "text/plain": [
       "array([[0., 0., 0.],\n",
       "       [0., 0., 0.],\n",
       "       [0., 0., 0.],\n",
       "       [0., 0., 0.]])"
      ]
     },
     "execution_count": 13,
     "metadata": {},
     "output_type": "execute_result"
    }
   ],
   "source": [
    "np.zeros_like(info_patos)   # Genera un array de ceros con las mismas dimensiones que otro array"
   ]
  },
  {
   "cell_type": "markdown",
   "metadata": {},
   "source": [
    "Con todo lo aprendido anteriormente ya deberías poder manejarte de forma bastante cómoda con la librería. Recuerda que siempre puedes buscar ayuda en la documentación o en línea."
   ]
  },
  {
   "cell_type": "markdown",
   "metadata": {},
   "source": [
    "### 3.2 Uso de Pandas"
   ]
  },
  {
   "cell_type": "markdown",
   "metadata": {},
   "source": [
    "Como puedes haber notado, puede ser algo confuso representar información solo en la forma de matrices ya que uno debe mantener rastro de a qué columna pertenece cada característica y en general las operaciones son mucho menos intuitivas.\n",
    "\n",
    "Es bajo este problema que nace la librería Pandas, que nos permite trabajar matrices (y muchas otras estructuras de datos) en forma de tablas o *dataframes*. Estas nos permiten nombrar los atributos de las columnas y llevar a cabo operaciones dentro de la tabla.\n",
    "\n",
    "Por ejemplo, si deseamos representar los datos de los patos en una tabla:"
   ]
  },
  {
   "cell_type": "code",
   "execution_count": 14,
   "metadata": {},
   "outputs": [
    {
     "data": {
      "text/html": [
       "<div>\n",
       "<style scoped>\n",
       "    .dataframe tbody tr th:only-of-type {\n",
       "        vertical-align: middle;\n",
       "    }\n",
       "\n",
       "    .dataframe tbody tr th {\n",
       "        vertical-align: top;\n",
       "    }\n",
       "\n",
       "    .dataframe thead th {\n",
       "        text-align: right;\n",
       "    }\n",
       "</style>\n",
       "<table border=\"1\" class=\"dataframe\">\n",
       "  <thead>\n",
       "    <tr style=\"text-align: right;\">\n",
       "      <th></th>\n",
       "      <th>Edad</th>\n",
       "      <th>Peso</th>\n",
       "      <th>Tamaño</th>\n",
       "    </tr>\n",
       "  </thead>\n",
       "  <tbody>\n",
       "    <tr>\n",
       "      <th>Pato 1</th>\n",
       "      <td>13</td>\n",
       "      <td>3.2</td>\n",
       "      <td>24</td>\n",
       "    </tr>\n",
       "    <tr>\n",
       "      <th>Pato 2</th>\n",
       "      <td>8</td>\n",
       "      <td>2.1</td>\n",
       "      <td>13</td>\n",
       "    </tr>\n",
       "    <tr>\n",
       "      <th>Pato 3</th>\n",
       "      <td>5</td>\n",
       "      <td>1.4</td>\n",
       "      <td>8</td>\n",
       "    </tr>\n",
       "    <tr>\n",
       "      <th>Pato 4</th>\n",
       "      <td>28</td>\n",
       "      <td>4.1</td>\n",
       "      <td>23</td>\n",
       "    </tr>\n",
       "  </tbody>\n",
       "</table>\n",
       "</div>"
      ],
      "text/plain": [
       "        Edad  Peso  Tamaño\n",
       "Pato 1    13   3.2      24\n",
       "Pato 2     8   2.1      13\n",
       "Pato 3     5   1.4       8\n",
       "Pato 4    28   4.1      23"
      ]
     },
     "execution_count": 14,
     "metadata": {},
     "output_type": "execute_result"
    }
   ],
   "source": [
    "pd.DataFrame([[13, 3.2, 24], [8, 2.1, 13], [5, 1.4, 8], [28, 4.1, 23]], index = [\"Pato 1\", \"Pato 2\", \"Pato 3\", \"Pato 4\"], columns = [\"Edad\", \"Peso\", \"Tamaño\"])"
   ]
  },
  {
   "cell_type": "markdown",
   "metadata": {},
   "source": [
    "También podemos generar la tabla a partir de la matriz que creamos anteriormente"
   ]
  },
  {
   "cell_type": "code",
   "execution_count": 15,
   "metadata": {},
   "outputs": [
    {
     "data": {
      "text/html": [
       "<div>\n",
       "<style scoped>\n",
       "    .dataframe tbody tr th:only-of-type {\n",
       "        vertical-align: middle;\n",
       "    }\n",
       "\n",
       "    .dataframe tbody tr th {\n",
       "        vertical-align: top;\n",
       "    }\n",
       "\n",
       "    .dataframe thead th {\n",
       "        text-align: right;\n",
       "    }\n",
       "</style>\n",
       "<table border=\"1\" class=\"dataframe\">\n",
       "  <thead>\n",
       "    <tr style=\"text-align: right;\">\n",
       "      <th></th>\n",
       "      <th>Edad</th>\n",
       "      <th>Peso</th>\n",
       "      <th>Tamaño</th>\n",
       "    </tr>\n",
       "  </thead>\n",
       "  <tbody>\n",
       "    <tr>\n",
       "      <th>Pato 1</th>\n",
       "      <td>13.0</td>\n",
       "      <td>3.2</td>\n",
       "      <td>24.0</td>\n",
       "    </tr>\n",
       "    <tr>\n",
       "      <th>Pato 2</th>\n",
       "      <td>8.0</td>\n",
       "      <td>2.1</td>\n",
       "      <td>13.0</td>\n",
       "    </tr>\n",
       "    <tr>\n",
       "      <th>Pato 3</th>\n",
       "      <td>5.0</td>\n",
       "      <td>1.4</td>\n",
       "      <td>8.0</td>\n",
       "    </tr>\n",
       "    <tr>\n",
       "      <th>Pato 4</th>\n",
       "      <td>28.0</td>\n",
       "      <td>4.1</td>\n",
       "      <td>23.0</td>\n",
       "    </tr>\n",
       "  </tbody>\n",
       "</table>\n",
       "</div>"
      ],
      "text/plain": [
       "        Edad  Peso  Tamaño\n",
       "Pato 1  13.0   3.2    24.0\n",
       "Pato 2   8.0   2.1    13.0\n",
       "Pato 3   5.0   1.4     8.0\n",
       "Pato 4  28.0   4.1    23.0"
      ]
     },
     "execution_count": 15,
     "metadata": {},
     "output_type": "execute_result"
    }
   ],
   "source": [
    "df_patos = pd.DataFrame(info_patos, index = [\"Pato 1\", \"Pato 2\", \"Pato 3\", \"Pato 4\"], columns = [\"Edad\", \"Peso\", \"Tamaño\"])\n",
    "\n",
    "df_patos"
   ]
  },
  {
   "cell_type": "markdown",
   "metadata": {},
   "source": [
    "Trabajar con *DataFrames* de Pandas resulta en una herramienta muy útil y cómoda, ya que nos permite filtrar nuestros datos de forma intuitiva."
   ]
  },
  {
   "cell_type": "code",
   "execution_count": 16,
   "metadata": {},
   "outputs": [
    {
     "data": {
      "text/plain": [
       "Pato 1    13.0\n",
       "Pato 2     8.0\n",
       "Pato 3     5.0\n",
       "Pato 4    28.0\n",
       "Name: Edad, dtype: float64"
      ]
     },
     "execution_count": 16,
     "metadata": {},
     "output_type": "execute_result"
    }
   ],
   "source": [
    "df_patos[\"Edad\"]    # Accedemos solo a la columna \"Edad\" de la dataframe"
   ]
  },
  {
   "cell_type": "code",
   "execution_count": 17,
   "metadata": {},
   "outputs": [
    {
     "data": {
      "text/plain": [
       "13.0"
      ]
     },
     "execution_count": 17,
     "metadata": {},
     "output_type": "execute_result"
    }
   ],
   "source": [
    "df_patos[\"Edad\"][0] # Notamos que también podemos indexar las columnas"
   ]
  },
  {
   "cell_type": "markdown",
   "metadata": {},
   "source": [
    "Una de las comodidades que trae trabajar con esta estructura de datos, es que nos permite filtrar dependiendo de múltiples criterios. Para ello utilizamos el método de la clase DataFrame: [DataFrame.loc](https://pandas.pydata.org/docs/reference/api/pandas.DataFrame.loc.html). Este nos permite filtrar datos según una serie que contenga nombres de columnas (es decir, recibe un conjunto de nombres de distintas filas y muestra solo aquellos datos)."
   ]
  },
  {
   "cell_type": "code",
   "execution_count": 18,
   "metadata": {},
   "outputs": [
    {
     "data": {
      "text/plain": [
       "Edad      13.0\n",
       "Peso       3.2\n",
       "Tamaño    24.0\n",
       "Name: Pato 1, dtype: float64"
      ]
     },
     "execution_count": 18,
     "metadata": {},
     "output_type": "execute_result"
    }
   ],
   "source": [
    "df_patos.loc[\"Pato 1\"]  # Si queremos mostrar un solo dato, podemos ingresar el nombre de aquella fila y listo"
   ]
  },
  {
   "cell_type": "markdown",
   "metadata": {},
   "source": [
    "En caso de querer obtener más filas (o filtrarlas por una condición), primero encontramos aquellas filas que cumplan la determinada condición"
   ]
  },
  {
   "cell_type": "code",
   "execution_count": 19,
   "metadata": {},
   "outputs": [
    {
     "data": {
      "text/plain": [
       "Pato 1     True\n",
       "Pato 2    False\n",
       "Pato 3    False\n",
       "Pato 4     True\n",
       "Name: Edad, dtype: bool"
      ]
     },
     "execution_count": 19,
     "metadata": {},
     "output_type": "execute_result"
    }
   ],
   "source": [
    "df_patos[\"Edad\"] > 10   # Retorna para cada pato si su edad es mayor a 10 o no"
   ]
  },
  {
   "cell_type": "markdown",
   "metadata": {},
   "source": [
    "Ahora, usamos este elemento para filtrar la dataframe usando el método *loc*"
   ]
  },
  {
   "cell_type": "code",
   "execution_count": 20,
   "metadata": {},
   "outputs": [
    {
     "data": {
      "text/html": [
       "<div>\n",
       "<style scoped>\n",
       "    .dataframe tbody tr th:only-of-type {\n",
       "        vertical-align: middle;\n",
       "    }\n",
       "\n",
       "    .dataframe tbody tr th {\n",
       "        vertical-align: top;\n",
       "    }\n",
       "\n",
       "    .dataframe thead th {\n",
       "        text-align: right;\n",
       "    }\n",
       "</style>\n",
       "<table border=\"1\" class=\"dataframe\">\n",
       "  <thead>\n",
       "    <tr style=\"text-align: right;\">\n",
       "      <th></th>\n",
       "      <th>Edad</th>\n",
       "      <th>Peso</th>\n",
       "      <th>Tamaño</th>\n",
       "    </tr>\n",
       "  </thead>\n",
       "  <tbody>\n",
       "    <tr>\n",
       "      <th>Pato 1</th>\n",
       "      <td>13.0</td>\n",
       "      <td>3.2</td>\n",
       "      <td>24.0</td>\n",
       "    </tr>\n",
       "    <tr>\n",
       "      <th>Pato 4</th>\n",
       "      <td>28.0</td>\n",
       "      <td>4.1</td>\n",
       "      <td>23.0</td>\n",
       "    </tr>\n",
       "  </tbody>\n",
       "</table>\n",
       "</div>"
      ],
      "text/plain": [
       "        Edad  Peso  Tamaño\n",
       "Pato 1  13.0   3.2    24.0\n",
       "Pato 4  28.0   4.1    23.0"
      ]
     },
     "execution_count": 20,
     "metadata": {},
     "output_type": "execute_result"
    }
   ],
   "source": [
    "df_patos.loc[df_patos[\"Edad\"] > 10] # Así obtenemos todos los patos con más de 10 meses de edad"
   ]
  },
  {
   "cell_type": "markdown",
   "metadata": {},
   "source": [
    "De este modo, podemos filtrar los datos mediante múltiples condiciones, lo que será especialmente útil cuando trabajemos en procesamiento de datos."
   ]
  },
  {
   "cell_type": "markdown",
   "metadata": {},
   "source": [
    "### **[IMPORTANTE]**\n",
    "Pandas también nos permite leer datos de archivos en múltiples formatos, siendo el más común para almacenar información el formato [.csv](https://www.w3schools.com/python/pandas/pandas_csv.asp), primero, escribiremos un archivo con esta extensión utilizando el siguiente método:"
   ]
  },
  {
   "cell_type": "code",
   "execution_count": 21,
   "metadata": {},
   "outputs": [],
   "source": [
    "df_patos.to_csv('dataframe_patos.csv')"
   ]
  },
  {
   "cell_type": "markdown",
   "metadata": {},
   "source": [
    "Podemos leer el archivo que acabamos de crear utilizando la siguiente línea:"
   ]
  },
  {
   "cell_type": "code",
   "execution_count": 22,
   "metadata": {},
   "outputs": [
    {
     "data": {
      "text/html": [
       "<div>\n",
       "<style scoped>\n",
       "    .dataframe tbody tr th:only-of-type {\n",
       "        vertical-align: middle;\n",
       "    }\n",
       "\n",
       "    .dataframe tbody tr th {\n",
       "        vertical-align: top;\n",
       "    }\n",
       "\n",
       "    .dataframe thead th {\n",
       "        text-align: right;\n",
       "    }\n",
       "</style>\n",
       "<table border=\"1\" class=\"dataframe\">\n",
       "  <thead>\n",
       "    <tr style=\"text-align: right;\">\n",
       "      <th></th>\n",
       "      <th>Unnamed: 0</th>\n",
       "      <th>Edad</th>\n",
       "      <th>Peso</th>\n",
       "      <th>Tamaño</th>\n",
       "    </tr>\n",
       "  </thead>\n",
       "  <tbody>\n",
       "    <tr>\n",
       "      <th>0</th>\n",
       "      <td>Pato 1</td>\n",
       "      <td>13.0</td>\n",
       "      <td>3.2</td>\n",
       "      <td>24.0</td>\n",
       "    </tr>\n",
       "    <tr>\n",
       "      <th>1</th>\n",
       "      <td>Pato 2</td>\n",
       "      <td>8.0</td>\n",
       "      <td>2.1</td>\n",
       "      <td>13.0</td>\n",
       "    </tr>\n",
       "    <tr>\n",
       "      <th>2</th>\n",
       "      <td>Pato 3</td>\n",
       "      <td>5.0</td>\n",
       "      <td>1.4</td>\n",
       "      <td>8.0</td>\n",
       "    </tr>\n",
       "    <tr>\n",
       "      <th>3</th>\n",
       "      <td>Pato 4</td>\n",
       "      <td>28.0</td>\n",
       "      <td>4.1</td>\n",
       "      <td>23.0</td>\n",
       "    </tr>\n",
       "  </tbody>\n",
       "</table>\n",
       "</div>"
      ],
      "text/plain": [
       "  Unnamed: 0  Edad  Peso  Tamaño\n",
       "0     Pato 1  13.0   3.2    24.0\n",
       "1     Pato 2   8.0   2.1    13.0\n",
       "2     Pato 3   5.0   1.4     8.0\n",
       "3     Pato 4  28.0   4.1    23.0"
      ]
     },
     "execution_count": 22,
     "metadata": {},
     "output_type": "execute_result"
    }
   ],
   "source": [
    "pd.read_csv('dataframe_patos.csv')"
   ]
  },
  {
   "cell_type": "markdown",
   "metadata": {},
   "source": [
    "Notamos que nuestros índices ahora figuran como columnas, esto tiene relación por la forma en que se almacenan los datos en un archivo .csv (Pandas no tiene como saber cual columna es el índice y cuál no).\n",
    "\n",
    "Una forma de solucionar este problema sería guardando el índice con un cierto nombre y luego reasignandolo a la dataframe:"
   ]
  },
  {
   "cell_type": "code",
   "execution_count": 23,
   "metadata": {},
   "outputs": [],
   "source": [
    "df_patos.to_csv('dataframe_patos.csv', index_label = 'Indice')  # Asignamos un nombre a la columna de los indices"
   ]
  },
  {
   "cell_type": "code",
   "execution_count": 24,
   "metadata": {},
   "outputs": [
    {
     "data": {
      "text/html": [
       "<div>\n",
       "<style scoped>\n",
       "    .dataframe tbody tr th:only-of-type {\n",
       "        vertical-align: middle;\n",
       "    }\n",
       "\n",
       "    .dataframe tbody tr th {\n",
       "        vertical-align: top;\n",
       "    }\n",
       "\n",
       "    .dataframe thead th {\n",
       "        text-align: right;\n",
       "    }\n",
       "</style>\n",
       "<table border=\"1\" class=\"dataframe\">\n",
       "  <thead>\n",
       "    <tr style=\"text-align: right;\">\n",
       "      <th></th>\n",
       "      <th>Indice</th>\n",
       "      <th>Edad</th>\n",
       "      <th>Peso</th>\n",
       "      <th>Tamaño</th>\n",
       "    </tr>\n",
       "  </thead>\n",
       "  <tbody>\n",
       "    <tr>\n",
       "      <th>0</th>\n",
       "      <td>Pato 1</td>\n",
       "      <td>13.0</td>\n",
       "      <td>3.2</td>\n",
       "      <td>24.0</td>\n",
       "    </tr>\n",
       "    <tr>\n",
       "      <th>1</th>\n",
       "      <td>Pato 2</td>\n",
       "      <td>8.0</td>\n",
       "      <td>2.1</td>\n",
       "      <td>13.0</td>\n",
       "    </tr>\n",
       "    <tr>\n",
       "      <th>2</th>\n",
       "      <td>Pato 3</td>\n",
       "      <td>5.0</td>\n",
       "      <td>1.4</td>\n",
       "      <td>8.0</td>\n",
       "    </tr>\n",
       "    <tr>\n",
       "      <th>3</th>\n",
       "      <td>Pato 4</td>\n",
       "      <td>28.0</td>\n",
       "      <td>4.1</td>\n",
       "      <td>23.0</td>\n",
       "    </tr>\n",
       "  </tbody>\n",
       "</table>\n",
       "</div>"
      ],
      "text/plain": [
       "   Indice  Edad  Peso  Tamaño\n",
       "0  Pato 1  13.0   3.2    24.0\n",
       "1  Pato 2   8.0   2.1    13.0\n",
       "2  Pato 3   5.0   1.4     8.0\n",
       "3  Pato 4  28.0   4.1    23.0"
      ]
     },
     "execution_count": 24,
     "metadata": {},
     "output_type": "execute_result"
    }
   ],
   "source": [
    "patos_csv = pd.read_csv('dataframe_patos.csv')  # Leemos el .csv nuevamente\n",
    "patos_csv"
   ]
  },
  {
   "cell_type": "code",
   "execution_count": 25,
   "metadata": {},
   "outputs": [
    {
     "data": {
      "text/html": [
       "<div>\n",
       "<style scoped>\n",
       "    .dataframe tbody tr th:only-of-type {\n",
       "        vertical-align: middle;\n",
       "    }\n",
       "\n",
       "    .dataframe tbody tr th {\n",
       "        vertical-align: top;\n",
       "    }\n",
       "\n",
       "    .dataframe thead th {\n",
       "        text-align: right;\n",
       "    }\n",
       "</style>\n",
       "<table border=\"1\" class=\"dataframe\">\n",
       "  <thead>\n",
       "    <tr style=\"text-align: right;\">\n",
       "      <th></th>\n",
       "      <th>Edad</th>\n",
       "      <th>Peso</th>\n",
       "      <th>Tamaño</th>\n",
       "    </tr>\n",
       "    <tr>\n",
       "      <th>Indice</th>\n",
       "      <th></th>\n",
       "      <th></th>\n",
       "      <th></th>\n",
       "    </tr>\n",
       "  </thead>\n",
       "  <tbody>\n",
       "    <tr>\n",
       "      <th>Pato 1</th>\n",
       "      <td>13.0</td>\n",
       "      <td>3.2</td>\n",
       "      <td>24.0</td>\n",
       "    </tr>\n",
       "    <tr>\n",
       "      <th>Pato 2</th>\n",
       "      <td>8.0</td>\n",
       "      <td>2.1</td>\n",
       "      <td>13.0</td>\n",
       "    </tr>\n",
       "    <tr>\n",
       "      <th>Pato 3</th>\n",
       "      <td>5.0</td>\n",
       "      <td>1.4</td>\n",
       "      <td>8.0</td>\n",
       "    </tr>\n",
       "    <tr>\n",
       "      <th>Pato 4</th>\n",
       "      <td>28.0</td>\n",
       "      <td>4.1</td>\n",
       "      <td>23.0</td>\n",
       "    </tr>\n",
       "  </tbody>\n",
       "</table>\n",
       "</div>"
      ],
      "text/plain": [
       "        Edad  Peso  Tamaño\n",
       "Indice                    \n",
       "Pato 1  13.0   3.2    24.0\n",
       "Pato 2   8.0   2.1    13.0\n",
       "Pato 3   5.0   1.4     8.0\n",
       "Pato 4  28.0   4.1    23.0"
      ]
     },
     "execution_count": 25,
     "metadata": {},
     "output_type": "execute_result"
    }
   ],
   "source": [
    "patos_csv = patos_csv.set_index('Indice')   # Podemos asignar el índice a la dataframe utilizando este comando\n",
    "patos_csv"
   ]
  },
  {
   "cell_type": "markdown",
   "metadata": {},
   "source": [
    "Cabe mencionar que normalmente utilizamos los índices por defecto de pandas (números desde el cero al infinito), pero para algunas aplicaciones cambiar los índices puede ser útil (en este caso, para fines didácticos)"
   ]
  },
  {
   "cell_type": "markdown",
   "metadata": {},
   "source": [
    "# 4. Módulos destacados de scikit-learn"
   ]
  },
  {
   "cell_type": "markdown",
   "metadata": {},
   "source": [
    "Si bien entraremos en detalle sobre cada módulo en su respectiva semana, aquí hay una lista \"resumen\" de los principales que usaremos en este curso (a modo de introducción, no esperamos que te manejes con ellos solamente por verlos en este notebook).\n",
    "\n",
    "En el próximo tutorial aprenderemos a utilizar estos módulos en el contexto del entrenamiento y evaluación de modelos de aprendizaje de máquina.\n",
    "\n",
    "*(Existe una descripción en detalle de todos los módulos de la librería [en la siguiente página](https://scikit-learn.org/stable/modules/classes.html)).*"
   ]
  },
  {
   "cell_type": "markdown",
   "metadata": {},
   "source": [
    "### 4.1) Vecinos más cercanos"
   ]
  },
  {
   "cell_type": "markdown",
   "metadata": {},
   "source": [
    "Podemos importar todo el módulo mediante la línea `from sklearn import neighbors`, este contiene herramientas para trabajar con el algoritmo de vecinos más cercanos (el cual estudiaremos en el curso).\n",
    "\n",
    "En particular, [el clasificador](https://scikit-learn.org/stable/modules/generated/sklearn.neighbors.KNeighborsClassifier.html) de este tipo que puede ser importado mediante la línea:"
   ]
  },
  {
   "cell_type": "code",
   "execution_count": 26,
   "metadata": {},
   "outputs": [],
   "source": [
    "from sklearn.neighbors import KNeighborsClassifier"
   ]
  },
  {
   "cell_type": "markdown",
   "metadata": {},
   "source": [
    "Y que luego podemos instanciar mediante la línea"
   ]
  },
  {
   "cell_type": "code",
   "execution_count": 27,
   "metadata": {},
   "outputs": [
    {
     "data": {
      "text/plain": [
       "KNeighborsClassifier()"
      ]
     },
     "execution_count": 27,
     "metadata": {},
     "output_type": "execute_result"
    }
   ],
   "source": [
    "KNeighborsClassifier()"
   ]
  },
  {
   "cell_type": "markdown",
   "metadata": {},
   "source": [
    "### 4.2) Árboles de decisión"
   ]
  },
  {
   "cell_type": "markdown",
   "metadata": {},
   "source": [
    "Podemos importar todo el módulo mediante la línea `from sklearn import tree`, este contiene herramientas para trabajar con el algoritmo de árboles de decisión  (el cual estudiaremos en el curso).\n",
    "\n",
    "En particular, [el clasificador](https://scikit-learn.org/stable/modules/generated/sklearn.tree.DecisionTreeClassifier.html) de este tipo que puede ser importado mediante la línea:"
   ]
  },
  {
   "cell_type": "code",
   "execution_count": 28,
   "metadata": {},
   "outputs": [],
   "source": [
    "from sklearn.tree import DecisionTreeClassifier"
   ]
  },
  {
   "cell_type": "markdown",
   "metadata": {},
   "source": [
    "Y que luego podemos instanciar mediante la línea"
   ]
  },
  {
   "cell_type": "code",
   "execution_count": 29,
   "metadata": {},
   "outputs": [
    {
     "data": {
      "text/plain": [
       "DecisionTreeClassifier()"
      ]
     },
     "execution_count": 29,
     "metadata": {},
     "output_type": "execute_result"
    }
   ],
   "source": [
    "DecisionTreeClassifier()"
   ]
  },
  {
   "cell_type": "markdown",
   "metadata": {},
   "source": [
    "### 4.3) Random Forest"
   ]
  },
  {
   "cell_type": "markdown",
   "metadata": {},
   "source": [
    "Podemos importar todo el módulo mediante la línea `from sklearn import ensemble`, este contiene herramientas para trabajar con el algoritmo de random forest (el cual estudiaremos en el curso).\n",
    "\n",
    "En particular, [el clasificador](https://scikit-learn.org/stable/modules/generated/sklearn.ensemble.RandomForestClassifier.html) de este tipo que puede ser importado mediante la línea:"
   ]
  },
  {
   "cell_type": "code",
   "execution_count": 30,
   "metadata": {},
   "outputs": [],
   "source": [
    "from sklearn.ensemble import RandomForestClassifier"
   ]
  },
  {
   "cell_type": "markdown",
   "metadata": {},
   "source": [
    "Y que luego podemos instanciar mediante la línea"
   ]
  },
  {
   "cell_type": "code",
   "execution_count": 31,
   "metadata": {},
   "outputs": [
    {
     "data": {
      "text/plain": [
       "RandomForestClassifier()"
      ]
     },
     "execution_count": 31,
     "metadata": {},
     "output_type": "execute_result"
    }
   ],
   "source": [
    "RandomForestClassifier()"
   ]
  },
  {
   "cell_type": "markdown",
   "metadata": {},
   "source": [
    "### 4.4) Support-Vector Machine (SVM)"
   ]
  },
  {
   "cell_type": "markdown",
   "metadata": {},
   "source": [
    "Podemos importar todo el módulo mediante la línea `from sklearn import svm`, este contiene herramientas para trabajar con el algoritmo de vector de soporte (el cual estudiaremos en el curso).\n",
    "\n",
    "En particular, [el clasificador](https://scikit-learn.org/stable/modules/generated/sklearn.svm.SVC.html) de este tipo que puede ser importado mediante la línea:"
   ]
  },
  {
   "cell_type": "code",
   "execution_count": 32,
   "metadata": {},
   "outputs": [],
   "source": [
    "from sklearn.svm import SVC"
   ]
  },
  {
   "cell_type": "markdown",
   "metadata": {},
   "source": [
    "Y que luego podemos instanciar mediante la línea"
   ]
  },
  {
   "cell_type": "code",
   "execution_count": 33,
   "metadata": {},
   "outputs": [
    {
     "data": {
      "text/plain": [
       "SVC()"
      ]
     },
     "execution_count": 33,
     "metadata": {},
     "output_type": "execute_result"
    }
   ],
   "source": [
    "SVC()"
   ]
  },
  {
   "cell_type": "markdown",
   "metadata": {},
   "source": [
    "### 4.5) Perceptron"
   ]
  },
  {
   "cell_type": "markdown",
   "metadata": {},
   "source": [
    "Podemos importar todo el módulo mediante la línea `from sklearn import linear_model`, este contiene herramientas para trabajar con un perceptrón (el cual estudiaremos en el curso).\n",
    "\n",
    "En particular, [el clasificador](https://scikit-learn.org/stable/modules/generated/sklearn.linear_model.Perceptron.html) de este tipo que puede ser importado mediante la línea:"
   ]
  },
  {
   "cell_type": "code",
   "execution_count": 34,
   "metadata": {},
   "outputs": [],
   "source": [
    "from sklearn.linear_model import Perceptron"
   ]
  },
  {
   "cell_type": "markdown",
   "metadata": {},
   "source": [
    "Y que luego podemos instanciar mediante la línea"
   ]
  },
  {
   "cell_type": "code",
   "execution_count": 35,
   "metadata": {},
   "outputs": [
    {
     "data": {
      "text/plain": [
       "Perceptron()"
      ]
     },
     "execution_count": 35,
     "metadata": {},
     "output_type": "execute_result"
    }
   ],
   "source": [
    "Perceptron()"
   ]
  },
  {
   "cell_type": "markdown",
   "metadata": {},
   "source": [
    "### 4.6) Multi-Layer Perceptron"
   ]
  },
  {
   "cell_type": "markdown",
   "metadata": {},
   "source": [
    "Podemos importar todo el módulo mediante la línea `from sklearn import neaural_network`, este contiene herramientas para trabajar con un Multi-Layer Perceptron o MLP (el cual estudiaremos en el curso).\n",
    "\n",
    "En particular, [el clasificador](https://scikit-learn.org/stable/modules/generated/sklearn.neural_network.MLPClassifier.html) de este tipo que puede ser importado mediante la línea:"
   ]
  },
  {
   "cell_type": "code",
   "execution_count": 36,
   "metadata": {},
   "outputs": [],
   "source": [
    "from sklearn.neural_network import MLPClassifier"
   ]
  },
  {
   "cell_type": "markdown",
   "metadata": {},
   "source": [
    "Y que luego podemos instanciar mediante la línea"
   ]
  },
  {
   "cell_type": "code",
   "execution_count": 37,
   "metadata": {},
   "outputs": [
    {
     "data": {
      "text/plain": [
       "MLPClassifier()"
      ]
     },
     "execution_count": 37,
     "metadata": {},
     "output_type": "execute_result"
    }
   ],
   "source": [
    "MLPClassifier()"
   ]
  },
  {
   "cell_type": "markdown",
   "metadata": {},
   "source": [
    "### 4.7) K-Means Clustering"
   ]
  },
  {
   "cell_type": "markdown",
   "metadata": {},
   "source": [
    "Podemos importar todo el módulo mediante la línea `from sklearn import cluster`, este contiene herramientas para hacer clustering usando el método de K-Means (el cual estudiaremos en el curso).\n",
    "\n",
    "En particular, [el algoritmo](https://scikit-learn.org/stable/modules/generated/sklearn.cluster.KMeans.html) de este tipo que puede ser importado mediante la línea:"
   ]
  },
  {
   "cell_type": "code",
   "execution_count": 38,
   "metadata": {},
   "outputs": [],
   "source": [
    "from sklearn.cluster import KMeans"
   ]
  },
  {
   "cell_type": "markdown",
   "metadata": {},
   "source": [
    "Y que luego podemos instanciar mediante la línea"
   ]
  },
  {
   "cell_type": "code",
   "execution_count": 39,
   "metadata": {},
   "outputs": [
    {
     "data": {
      "text/plain": [
       "KMeans()"
      ]
     },
     "execution_count": 39,
     "metadata": {},
     "output_type": "execute_result"
    }
   ],
   "source": [
    "KMeans()"
   ]
  },
  {
   "cell_type": "markdown",
   "metadata": {},
   "source": [
    "# 5. Utilizando scikit-learn"
   ]
  },
  {
   "cell_type": "markdown",
   "metadata": {},
   "source": [
    "Podemos entrenar los clasificadores instanciados en sklearn utilizando su método *fit* sobre un conjunto de datos y una serie de valores proyectados. En este caso, vamos a implementar un ejemplo simple (y sin mucho sentido) utilizando la información de los patos:"
   ]
  },
  {
   "cell_type": "code",
   "execution_count": 41,
   "metadata": {},
   "outputs": [
    {
     "data": {
      "text/html": [
       "<div>\n",
       "<style scoped>\n",
       "    .dataframe tbody tr th:only-of-type {\n",
       "        vertical-align: middle;\n",
       "    }\n",
       "\n",
       "    .dataframe tbody tr th {\n",
       "        vertical-align: top;\n",
       "    }\n",
       "\n",
       "    .dataframe thead th {\n",
       "        text-align: right;\n",
       "    }\n",
       "</style>\n",
       "<table border=\"1\" class=\"dataframe\">\n",
       "  <thead>\n",
       "    <tr style=\"text-align: right;\">\n",
       "      <th></th>\n",
       "      <th>Edad</th>\n",
       "      <th>Peso</th>\n",
       "      <th>Tamaño</th>\n",
       "      <th>Sabe volar</th>\n",
       "    </tr>\n",
       "  </thead>\n",
       "  <tbody>\n",
       "    <tr>\n",
       "      <th>Pato 1</th>\n",
       "      <td>13.0</td>\n",
       "      <td>3.2</td>\n",
       "      <td>24.0</td>\n",
       "      <td>1</td>\n",
       "    </tr>\n",
       "    <tr>\n",
       "      <th>Pato 2</th>\n",
       "      <td>8.0</td>\n",
       "      <td>2.1</td>\n",
       "      <td>13.0</td>\n",
       "      <td>0</td>\n",
       "    </tr>\n",
       "    <tr>\n",
       "      <th>Pato 3</th>\n",
       "      <td>5.0</td>\n",
       "      <td>1.4</td>\n",
       "      <td>8.0</td>\n",
       "      <td>0</td>\n",
       "    </tr>\n",
       "    <tr>\n",
       "      <th>Pato 4</th>\n",
       "      <td>28.0</td>\n",
       "      <td>4.1</td>\n",
       "      <td>23.0</td>\n",
       "      <td>1</td>\n",
       "    </tr>\n",
       "  </tbody>\n",
       "</table>\n",
       "</div>"
      ],
      "text/plain": [
       "        Edad  Peso  Tamaño  Sabe volar\n",
       "Pato 1  13.0   3.2    24.0           1\n",
       "Pato 2   8.0   2.1    13.0           0\n",
       "Pato 3   5.0   1.4     8.0           0\n",
       "Pato 4  28.0   4.1    23.0           1"
      ]
     },
     "execution_count": 41,
     "metadata": {},
     "output_type": "execute_result"
    }
   ],
   "source": [
    "# Añadimos una nueva columna, esta será la que trataremos de predecir para nuevos patos\n",
    "\n",
    "df_patos.insert(3, \"Sabe volar\", [1, 0, 0, 1])\n",
    "df_patos"
   ]
  },
  {
   "cell_type": "markdown",
   "metadata": {},
   "source": [
    "Lógicamente nuestro modelo no será de muy buena calidad, dado que estamos entrenando con muy pocos datos"
   ]
  },
  {
   "cell_type": "code",
   "execution_count": 42,
   "metadata": {},
   "outputs": [
    {
     "data": {
      "text/plain": [
       "KNeighborsClassifier(n_neighbors=3)"
      ]
     },
     "execution_count": 42,
     "metadata": {},
     "output_type": "execute_result"
    }
   ],
   "source": [
    "clasificador = KNeighborsClassifier(3)\n",
    "\n",
    "# Qué datos usamos para predecir\n",
    "X = df_patos.loc[:, df_patos.columns != \"Sabe volar\"]\n",
    "\n",
    "# Qué cosa queremos predecir\n",
    "y = df_patos[\"Sabe volar\"]\n",
    "\n",
    "clasificador.fit(X, y)"
   ]
  },
  {
   "cell_type": "markdown",
   "metadata": {},
   "source": [
    "Ahora, si le entregamos un nuevo pato al clasificador (en forma de sus características Edad, Peso y Tamaño), debería entregarnos una clasificación sobre si el pato sabe o no volar"
   ]
  },
  {
   "cell_type": "code",
   "execution_count": 49,
   "metadata": {},
   "outputs": [],
   "source": [
    "# Array con información de distintos patos, cada fila son los datos de un pato distinto\n",
    "test_patos = np.array([[5.4, 2.3, 10], [12.0, 3.5, 18.0], [7.3, 1.2, 5.7], [17.4, 3.6, 19.4]])"
   ]
  },
  {
   "cell_type": "code",
   "execution_count": 50,
   "metadata": {},
   "outputs": [
    {
     "data": {
      "text/plain": [
       "array([0, 0, 0, 1], dtype=int64)"
      ]
     },
     "execution_count": 50,
     "metadata": {},
     "output_type": "execute_result"
    }
   ],
   "source": [
    "clasificador.predict(test_patos)"
   ]
  },
  {
   "cell_type": "markdown",
   "metadata": {},
   "source": [
    "Por lo tanto, según nuestro clasificador solo el último pato testeado sabría volar (en base a la información de los patos que sí conocemos)"
   ]
  },
  {
   "cell_type": "markdown",
   "metadata": {},
   "source": [
    "# 6. Conclusión"
   ]
  },
  {
   "cell_type": "markdown",
   "metadata": {},
   "source": [
    "Felicitaciones! Además de tener la librería scikit-learn instalada y corriendo, ahora deberías tener una intuición de cómo trabajar con datos utilizando las librerías Numpy y Pandas y de como instanciar algunos de los clasificadores que utilizaremos a lo largo de todo el curso. En próximas ayudantías entraremos en más detalle sobre la lógica detrás de ellos y como implementarlos directamente."
   ]
  }
 ],
 "metadata": {
  "kernelspec": {
   "display_name": "Python 3.7.9 64-bit",
   "language": "python",
   "name": "python3"
  },
  "language_info": {
   "codemirror_mode": {
    "name": "ipython",
    "version": 3
   },
   "file_extension": ".py",
   "mimetype": "text/x-python",
   "name": "python",
   "nbconvert_exporter": "python",
   "pygments_lexer": "ipython3",
   "version": "3.7.9"
  },
  "orig_nbformat": 4,
  "vscode": {
   "interpreter": {
    "hash": "7dfdfc69e8be1f7abebd0f64d7ee31d33ed11d87d01c6db508d515b37a3821e8"
   }
  }
 },
 "nbformat": 4,
 "nbformat_minor": 2
}
